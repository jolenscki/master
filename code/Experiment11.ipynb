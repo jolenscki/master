{
 "cells": [
  {
   "cell_type": "code",
   "execution_count": 3,
   "id": "12b1a78a-7bec-46ea-84f3-26782ab09084",
   "metadata": {
    "tags": []
   },
   "outputs": [],
   "source": [
    "import os\n",
    "os.environ['CUDA_LAUNCH_BLOCKING'] = \"1\"\n",
    "os.environ['TORCH_USE_CUDA_DSA']   = \"1\"\n",
    "from os import path as osp\n",
    "# if 'jupyter' in os.getcwd():\n",
    "#     os.chdir(osp.join(os.getcwd(), 'masterarbeit', 'code'))\n",
    "import glob\n",
    "import time\n",
    "import argparse\n",
    "from tqdm import tqdm\n",
    "from tqdm.notebook import tqdm as tqdmnotebook\n",
    "import pickle\n",
    "from pathlib import Path\n",
    "from typing import Any\n",
    "from typing import Callable\n",
    "from typing import Optional\n",
    "from typing import Tuple\n",
    "from typing import Union\n",
    "from typing import Dict\n",
    "from typing import List\n",
    "from itertools import cycle\n",
    "import matplotlib as mpl\n",
    "import matplotlib.pyplot as plt\n",
    "import matplotlib.patches as mpatches\n",
    "mpl.rc('axes', unicode_minus=False)\n",
    "preamble = r'\\usepackage{amsmath}'  # LaTeX preamble command\n",
    "mpl.rcParams['text.latex.preamble'] = preamble\n",
    "\n",
    "# import seaborn as sns\n",
    "import networkx as nx\n",
    "import math\n",
    "import numpy as np\n",
    "\n",
    "import gc\n",
    "\n",
    "# pytorch imports\n",
    "import torch\n",
    "from torch import Tensor, nn, cuda\n",
    "import torch.nn.functional as F\n",
    "from torch.utils.data import random_split\n",
    "from torch.cuda.amp import GradScaler, autocast\n",
    "\n",
    "# pytorch geometric imports\n",
    "import torch_geometric\n",
    "from torch_geometric.data import Dataset\n",
    "from torch_geometric.loader import DataLoader\n",
    "from torch_geometric.transforms import Compose\n",
    "\n",
    "# lightning imports\n",
    "from lightning.pytorch.utilities.combined_loader import CombinedLoader\n",
    "\n",
    "from IPython.display import display, clear_output\n",
    "\n",
    "from google.cloud import storage\n",
    "\n",
    "import sys\n",
    "# Add the 'code' directory to sys.path to make the  submodules available\n",
    "# sys.path.append('/home/jupyter/masterarbeit/code')\n",
    "\n",
    "from util.utils import generate_log_name\n",
    "from util.plot_utils import *\n",
    "\n",
    "import logging as log\n",
    "\n",
    "from data.dataset.GraphDataset import GraphDataset\n",
    "\n",
    "from model.transform import CollapseChannels, ExtractSquare\n",
    "from model.autoencoder import Autoencoder\n",
    "from model.predictor import Predictor\n",
    "from model.DAN import GradientReversalLayer, DomainDiscriminator\n",
    "\n",
    "from model.criterions import WeightedMSELoss, MSLELoss, FocalLoss, ZeroInflatedLoss, CustomHuberLoss\n",
    "\n",
    "from fullmodel import Model\n",
    "\n",
    "API_KEY_PATH = 'api_key.json'\n",
    "os.environ['GOOGLE_APPLICATION_CREDENTIALS'] = API_KEY_PATH"
   ]
  },
  {
   "cell_type": "code",
   "execution_count": 4,
   "id": "83312120-e8ef-4639-a2b5-91cbe8c8c79a",
   "metadata": {
    "tags": []
   },
   "outputs": [],
   "source": [
    "exp_id='exp11'"
   ]
  },
  {
   "cell_type": "code",
   "execution_count": 1,
   "id": "768a99eb-b695-48fc-aa6f-e6aefa1d48a2",
   "metadata": {},
   "outputs": [],
   "source": [
    "setups = [(i, j) for i in [1, 2] for j in [1, 2, 3]]"
   ]
  },
  {
   "cell_type": "code",
   "execution_count": 9,
   "id": "fe55298a-960d-48c3-be4f-972ce8c99461",
   "metadata": {},
   "outputs": [],
   "source": [
    "EPOCHS: int = 2\n",
    "N_weeks = 2\n",
    "N_src = 3\n",
    "BATCH_SIZE: int = 2\n",
    "NUM_CHANNELS: int = 2\n",
    "WDW_LENGTH: list = [12, 6]\n",
    "src_data_limit: int = None\n",
    "\n",
    "tgt: str = 'MELBOURNE'\n",
    "src_list: list = ['ANTWERP', 'BANGKOK', 'BARCELONA', 'BERLIN', 'CHICAGO', 'ISTANBUL', 'MOSCOW']\n",
    "device = torch.device('cuda' if torch.cuda.is_available() else 'cpu')\n",
    "\n",
    "TRAIN_VAL_TEST_SPLIT = [0.8, 0.1, 0.1]\n",
    "\n",
    "pre_transform = Compose([\n",
    "    CollapseChannels(),\n",
    "])\n",
    "\n",
    "ds_kwargs = {\n",
    "    'root_dir': 'data/raw',\n",
    "    'device': device,\n",
    "    'pre_transform': pre_transform,\n",
    "}\n",
    "\n",
    "# seed generator for DataLoader\n",
    "gen = torch.manual_seed(2311)"
   ]
  },
  {
   "cell_type": "code",
   "execution_count": 133,
   "id": "2f45362f-9842-425a-a8f8-5639aa37040c",
   "metadata": {
    "scrolled": true
   },
   "outputs": [
    {
     "name": "stdout",
     "output_type": "stream",
     "text": [
      "==================== AE FT ====================\n"
     ]
    },
    {
     "data": {
      "application/vnd.jupyter.widget-view+json": {
       "model_id": "6e94e6d9ffaa4deba9f261381b5dab87",
       "version_major": 2,
       "version_minor": 0
      },
      "text/plain": [
       "Epochs:   0%|          | 0/2 [00:00<?,?it/s]"
      ]
     },
     "metadata": {},
     "output_type": "display_data"
    },
    {
     "data": {
      "text/plain": [
       "<tqdm.notebook.tqdm_notebook at 0x7f19bc406350>"
      ]
     },
     "metadata": {},
     "output_type": "display_data"
    },
    {
     "data": {
      "application/vnd.jupyter.widget-view+json": {
       "model_id": "46844b8440cb45569dd12583a0130b08",
       "version_major": 2,
       "version_minor": 0
      },
      "text/plain": [
       "Batches:   0%|          | 0/865 [00:00<?,?it/s]"
      ]
     },
     "metadata": {},
     "output_type": "display_data"
    },
    {
     "data": {
      "text/plain": [
       "<tqdm.notebook.tqdm_notebook at 0x7f1918af2a40>"
      ]
     },
     "metadata": {},
     "output_type": "display_data"
    },
    {
     "name": "stdout",
     "output_type": "stream",
     "text": [
      "Batch:  28\n",
      "    Loss:    0.2808\n",
      "     Rec:    0.2808\n",
      "    Disc:    0.0000\n",
      "Batch:  56\n",
      "    Loss:    0.2774\n",
      "     Rec:    0.2774\n",
      "    Disc:    0.0000\n",
      "Batch:  84\n",
      "    Loss:    0.2739\n",
      "     Rec:    0.2739\n",
      "    Disc:    0.0000\n",
      "Batch:  112\n",
      "    Loss:    0.2695\n",
      "     Rec:    0.2695\n",
      "    Disc:    0.0000\n",
      "Batch:  140\n",
      "    Loss:    0.2665\n",
      "     Rec:    0.2665\n",
      "    Disc:    0.0000\n",
      "Batch:  168\n",
      "    Loss:    0.2623\n",
      "     Rec:    0.2623\n",
      "    Disc:    0.0000\n",
      "Batch:  196\n",
      "    Loss:    0.2594\n",
      "     Rec:    0.2594\n",
      "    Disc:    0.0000\n"
     ]
    },
    {
     "name": "stderr",
     "output_type": "stream",
     "text": [
      "/home/jolenscki/masterarbeit/code/util/plot_utils.py:150: RuntimeWarning: More than 20 figures have been opened. Figures created through the pyplot interface (`matplotlib.pyplot.figure`) are retained until explicitly closed and may consume too much memory. (To control this warning, see the rcParam `figure.max_open_warning`). Consider using `matplotlib.pyplot.close()`.\n",
      "  plt.figure(figsize=(10, 5))\n"
     ]
    },
    {
     "name": "stdout",
     "output_type": "stream",
     "text": [
      "Batch:  224\n",
      "    Loss:    0.2565\n",
      "     Rec:    0.2565\n",
      "    Disc:    0.0000\n",
      "Batch:  252\n",
      "    Loss:    0.2543\n",
      "     Rec:    0.2543\n",
      "    Disc:    0.0000\n",
      "Batch:  280\n",
      "    Loss:    0.2501\n",
      "     Rec:    0.2501\n",
      "    Disc:    0.0000\n",
      "Batch:  308\n",
      "    Loss:    0.2478\n",
      "     Rec:    0.2478\n",
      "    Disc:    0.0000\n",
      "Batch:  336\n",
      "    Loss:    0.2455\n",
      "     Rec:    0.2455\n",
      "    Disc:    0.0000\n",
      "Batch:  364\n",
      "    Loss:    0.2439\n",
      "     Rec:    0.2439\n",
      "    Disc:    0.0000\n",
      "Batch:  392\n",
      "    Loss:    0.2411\n",
      "     Rec:    0.2411\n",
      "    Disc:    0.0000\n",
      "Batch:  420\n",
      "    Loss:    0.2395\n",
      "     Rec:    0.2395\n",
      "    Disc:    0.0000\n",
      "Batch:  448\n",
      "    Loss:    0.2378\n",
      "     Rec:    0.2378\n",
      "    Disc:    0.0000\n",
      "Batch:  476\n",
      "    Loss:    0.2366\n",
      "     Rec:    0.2366\n",
      "    Disc:    0.0000\n",
      "Batch:  504\n",
      "    Loss:    0.2351\n",
      "     Rec:    0.2351\n",
      "    Disc:    0.0000\n",
      "Batch:  532\n",
      "    Loss:    0.2341\n",
      "     Rec:    0.2341\n",
      "    Disc:    0.0000\n",
      "Batch:  560\n",
      "    Loss:    0.2331\n",
      "     Rec:    0.2331\n",
      "    Disc:    0.0000\n",
      "Batch:  588\n",
      "    Loss:    0.2320\n",
      "     Rec:    0.2320\n",
      "    Disc:    0.0000\n",
      "Batch:  616\n",
      "    Loss:    0.2310\n",
      "     Rec:    0.2310\n",
      "    Disc:    0.0000\n",
      "Batch:  644\n",
      "    Loss:    0.2303\n",
      "     Rec:    0.2303\n",
      "    Disc:    0.0000\n",
      "Batch:  672\n",
      "    Loss:    0.2291\n",
      "     Rec:    0.2291\n",
      "    Disc:    0.0000\n",
      "Batch:  700\n",
      "    Loss:    0.2282\n",
      "     Rec:    0.2282\n",
      "    Disc:    0.0000\n",
      "Batch:  728\n",
      "    Loss:    0.2272\n",
      "     Rec:    0.2272\n",
      "    Disc:    0.0000\n",
      "Batch:  756\n",
      "    Loss:    0.2261\n",
      "     Rec:    0.2261\n",
      "    Disc:    0.0000\n",
      "Batch:  784\n",
      "    Loss:    0.2249\n",
      "     Rec:    0.2249\n",
      "    Disc:    0.0000\n",
      "Batch:  812\n",
      "    Loss:    0.2240\n",
      "     Rec:    0.2240\n",
      "    Disc:    0.0000\n",
      "Batch:  840\n",
      "    Loss:    0.2228\n",
      "     Rec:    0.2228\n",
      "    Disc:    0.0000\n",
      "Batch:  28\n",
      "    Loss:    0.2207\n",
      "     Rec:    0.2207\n",
      "    Disc:    0.0000\n",
      "Batch:  56\n",
      "    Loss:    0.2195\n",
      "     Rec:    0.2195\n",
      "    Disc:    0.0000\n",
      "Batch:  84\n",
      "    Loss:    0.2185\n",
      "     Rec:    0.2185\n",
      "    Disc:    0.0000\n",
      "Batch:  112\n",
      "    Loss:    0.2166\n",
      "     Rec:    0.2166\n",
      "    Disc:    0.0000\n",
      "Batch:  140\n",
      "    Loss:    0.2157\n",
      "     Rec:    0.2157\n",
      "    Disc:    0.0000\n",
      "Batch:  168\n",
      "    Loss:    0.2146\n",
      "     Rec:    0.2146\n",
      "    Disc:    0.0000\n",
      "Batch:  196\n",
      "    Loss:    0.2131\n",
      "     Rec:    0.2131\n",
      "    Disc:    0.0000\n",
      "Batch:  224\n",
      "    Loss:    0.2108\n",
      "     Rec:    0.2108\n",
      "    Disc:    0.0000\n",
      "Batch:  252\n",
      "    Loss:    0.2106\n",
      "     Rec:    0.2106\n",
      "    Disc:    0.0000\n",
      "Batch:  280\n",
      "    Loss:    0.2091\n",
      "     Rec:    0.2091\n",
      "    Disc:    0.0000\n",
      "Batch:  308\n",
      "    Loss:    0.2067\n",
      "     Rec:    0.2067\n",
      "    Disc:    0.0000\n",
      "Batch:  336\n",
      "    Loss:    0.2055\n",
      "     Rec:    0.2055\n",
      "    Disc:    0.0000\n",
      "Batch:  364\n",
      "    Loss:    0.2049\n",
      "     Rec:    0.2049\n",
      "    Disc:    0.0000\n",
      "Batch:  392\n",
      "    Loss:    0.2024\n",
      "     Rec:    0.2024\n",
      "    Disc:    0.0000\n",
      "Batch:  420\n",
      "    Loss:    0.2015\n",
      "     Rec:    0.2015\n",
      "    Disc:    0.0000\n",
      "Batch:  448\n",
      "    Loss:    0.1996\n",
      "     Rec:    0.1996\n",
      "    Disc:    0.0000\n",
      "Batch:  476\n",
      "    Loss:    0.1988\n",
      "     Rec:    0.1988\n",
      "    Disc:    0.0000\n",
      "Batch:  504\n",
      "    Loss:    0.1958\n",
      "     Rec:    0.1958\n",
      "    Disc:    0.0000\n",
      "Batch:  532\n",
      "    Loss:    0.1954\n",
      "     Rec:    0.1954\n",
      "    Disc:    0.0000\n",
      "Batch:  560\n",
      "    Loss:    0.1934\n",
      "     Rec:    0.1934\n",
      "    Disc:    0.0000\n",
      "Batch:  588\n",
      "    Loss:    0.1911\n",
      "     Rec:    0.1911\n",
      "    Disc:    0.0000\n",
      "Batch:  616\n",
      "    Loss:    0.1896\n",
      "     Rec:    0.1896\n",
      "    Disc:    0.0000\n",
      "Batch:  644\n",
      "    Loss:    0.1885\n",
      "     Rec:    0.1885\n",
      "    Disc:    0.0000\n",
      "Batch:  672\n",
      "    Loss:    0.1862\n",
      "     Rec:    0.1862\n",
      "    Disc:    0.0000\n",
      "Batch:  700\n",
      "    Loss:    0.1850\n",
      "     Rec:    0.1850\n",
      "    Disc:    0.0000\n",
      "Batch:  728\n",
      "    Loss:    0.1831\n",
      "     Rec:    0.1831\n",
      "    Disc:    0.0000\n",
      "Batch:  756\n",
      "    Loss:    0.1811\n",
      "     Rec:    0.1811\n",
      "    Disc:    0.0000\n",
      "Batch:  784\n",
      "    Loss:    0.1792\n",
      "     Rec:    0.1792\n",
      "    Disc:    0.0000\n",
      "Batch:  812\n",
      "    Loss:    0.1774\n",
      "     Rec:    0.1774\n",
      "    Disc:    0.0000\n",
      "Batch:  840\n",
      "    Loss:    0.1757\n",
      "     Rec:    0.1757\n",
      "    Disc:    0.0000\n",
      "==================== PR FT ====================\n"
     ]
    },
    {
     "data": {
      "application/vnd.jupyter.widget-view+json": {
       "model_id": "77f22ffdd6a44062b63c85889a500ef9",
       "version_major": 2,
       "version_minor": 0
      },
      "text/plain": [
       "Epochs:   0%|          | 0/2 [00:00<?,?it/s]"
      ]
     },
     "metadata": {},
     "output_type": "display_data"
    },
    {
     "data": {
      "text/plain": [
       "<tqdm.notebook.tqdm_notebook at 0x7f19bc406350>"
      ]
     },
     "metadata": {},
     "output_type": "display_data"
    },
    {
     "data": {
      "application/vnd.jupyter.widget-view+json": {
       "model_id": "8bea39c28dcc441ba569cddc88ba30c0",
       "version_major": 2,
       "version_minor": 0
      },
      "text/plain": [
       "Batches:   0%|          | 0/865 [00:00<?,?it/s]"
      ]
     },
     "metadata": {},
     "output_type": "display_data"
    },
    {
     "data": {
      "text/plain": [
       "<tqdm.notebook.tqdm_notebook at 0x7f1918af2a40>"
      ]
     },
     "metadata": {},
     "output_type": "display_data"
    },
    {
     "name": "stdout",
     "output_type": "stream",
     "text": [
      "Batch:  28\n",
      "    Loss:    0.2474\n",
      "Batch:  56\n",
      "    Loss:    0.2434\n",
      "Batch:  84\n",
      "    Loss:    0.2373\n",
      "Batch:  112\n",
      "    Loss:    0.2304\n",
      "Batch:  140\n",
      "    Loss:    0.2329\n",
      "Batch:  168\n",
      "    Loss:    0.2342\n",
      "Batch:  196\n",
      "    Loss:    0.2295\n",
      "Batch:  224\n",
      "    Loss:    0.2227\n",
      "Batch:  252\n",
      "    Loss:    0.2157\n",
      "Batch:  280\n",
      "    Loss:    0.2181\n",
      "Batch:  308\n",
      "    Loss:    0.2155\n",
      "Batch:  336\n",
      "    Loss:    0.2062\n",
      "Batch:  364\n",
      "    Loss:    0.2071\n",
      "Batch:  392\n",
      "    Loss:    0.2032\n",
      "Batch:  420\n",
      "    Loss:    0.1993\n",
      "Batch:  448\n",
      "    Loss:    0.1964\n",
      "Batch:  476\n",
      "    Loss:    0.1925\n",
      "Batch:  504\n",
      "    Loss:    0.1854\n",
      "Batch:  532\n",
      "    Loss:    0.1875\n",
      "Batch:  560\n",
      "    Loss:    0.1818\n",
      "Batch:  588\n",
      "    Loss:    0.1712\n",
      "Batch:  616\n",
      "    Loss:    0.1704\n",
      "Batch:  644\n",
      "    Loss:    0.1686\n",
      "Batch:  672\n",
      "    Loss:    0.1625\n",
      "Batch:  700\n",
      "    Loss:    0.1560\n",
      "Batch:  728\n",
      "    Loss:    0.1555\n",
      "Batch:  756\n",
      "    Loss:    0.1579\n",
      "Batch:  784\n",
      "    Loss:    0.1389\n",
      "Batch:  812\n",
      "    Loss:    0.1446\n",
      "Batch:  840\n",
      "    Loss:    0.1367\n",
      "Batch:  28\n",
      "    Loss:    0.1279\n",
      "Batch:  56\n",
      "    Loss:    0.1231\n",
      "Batch:  84\n",
      "    Loss:    0.1227\n",
      "Batch:  112\n",
      "    Loss:    0.1216\n",
      "Batch:  140\n",
      "    Loss:    0.1107\n",
      "Batch:  168\n",
      "    Loss:    0.1002\n",
      "Batch:  196\n",
      "    Loss:    0.1047\n",
      "Batch:  224\n",
      "    Loss:    0.0975\n",
      "Batch:  252\n",
      "    Loss:    0.0963\n",
      "Batch:  280\n",
      "    Loss:    0.0869\n",
      "Batch:  308\n",
      "    Loss:    0.0902\n",
      "Batch:  336\n",
      "    Loss:    0.0846\n",
      "Batch:  364\n",
      "    Loss:    0.0792\n",
      "Batch:  392\n",
      "    Loss:    0.0722\n",
      "Batch:  420\n",
      "    Loss:    0.0723\n",
      "Batch:  448\n",
      "    Loss:    0.0708\n",
      "Batch:  476\n",
      "    Loss:    0.0636\n",
      "Batch:  504\n",
      "    Loss:    0.0680\n",
      "Batch:  532\n",
      "    Loss:    0.0608\n",
      "Batch:  560\n",
      "    Loss:    0.0549\n",
      "Batch:  588\n",
      "    Loss:    0.0539\n",
      "Batch:  616\n",
      "    Loss:    0.0504\n",
      "Batch:  644\n",
      "    Loss:    0.0473\n",
      "Batch:  672\n",
      "    Loss:    0.0456\n",
      "Batch:  700\n",
      "    Loss:    0.0448\n",
      "Batch:  728\n",
      "    Loss:    0.0402\n",
      "Batch:  756\n",
      "    Loss:    0.0391\n",
      "Batch:  784\n",
      "    Loss:    0.0383\n",
      "Batch:  812\n",
      "    Loss:    0.0355\n",
      "Batch:  840\n",
      "    Loss:    0.0331\n"
     ]
    },
    {
     "data": {
      "application/vnd.jupyter.widget-view+json": {
       "model_id": "e57f5ac1dceb4364a8601b6398253200",
       "version_major": 2,
       "version_minor": 0
      },
      "text/plain": [
       "Batches:   0%|          | 0/2000 [00:00<?,?it/s]"
      ]
     },
     "metadata": {},
     "output_type": "display_data"
    },
    {
     "data": {
      "application/vnd.jupyter.widget-view+json": {
       "model_id": "4a5d9aa4331445589220aee9bc4ebaf3",
       "version_major": 2,
       "version_minor": 0
      },
      "text/plain": [
       "Batches:   0%|          | 0/4000 [00:00<?,?it/s]"
      ]
     },
     "metadata": {},
     "output_type": "display_data"
    },
    {
     "data": {
      "text/plain": [
       "<tqdm.notebook.tqdm_notebook at 0x7f19a5a1a8c0>"
      ]
     },
     "metadata": {},
     "output_type": "display_data"
    },
    {
     "name": "stdout",
     "output_type": "stream",
     "text": [
      "==================== AE FT ====================\n"
     ]
    },
    {
     "data": {
      "application/vnd.jupyter.widget-view+json": {
       "model_id": "665b4461c6424df48cc94fe0e54f282a",
       "version_major": 2,
       "version_minor": 0
      },
      "text/plain": [
       "Epochs:   0%|          | 0/2 [00:00<?,?it/s]"
      ]
     },
     "metadata": {},
     "output_type": "display_data"
    },
    {
     "data": {
      "text/plain": [
       "<tqdm.notebook.tqdm_notebook at 0x7f19bc406350>"
      ]
     },
     "metadata": {},
     "output_type": "display_data"
    },
    {
     "data": {
      "application/vnd.jupyter.widget-view+json": {
       "model_id": "d896634a859440d797678df1543b9e2d",
       "version_major": 2,
       "version_minor": 0
      },
      "text/plain": [
       "Batches:   0%|          | 0/1729 [00:00<?,?it/s]"
      ]
     },
     "metadata": {},
     "output_type": "display_data"
    },
    {
     "data": {
      "text/plain": [
       "<tqdm.notebook.tqdm_notebook at 0x7f1918af2a40>"
      ]
     },
     "metadata": {},
     "output_type": "display_data"
    },
    {
     "name": "stdout",
     "output_type": "stream",
     "text": [
      "Batch:  57\n",
      "    Loss:    0.3557\n",
      "     Rec:    0.3557\n",
      "    Disc:    0.0000\n",
      "Batch:  114\n",
      "    Loss:    0.3422\n",
      "     Rec:    0.3422\n",
      "    Disc:    0.0000\n",
      "Batch:  171\n",
      "    Loss:    0.3310\n",
      "     Rec:    0.3310\n",
      "    Disc:    0.0000\n",
      "Batch:  228\n",
      "    Loss:    0.3210\n",
      "     Rec:    0.3210\n",
      "    Disc:    0.0000\n",
      "Batch:  285\n",
      "    Loss:    0.3138\n",
      "     Rec:    0.3138\n",
      "    Disc:    0.0000\n",
      "Batch:  342\n",
      "    Loss:    0.3094\n",
      "     Rec:    0.3094\n",
      "    Disc:    0.0000\n",
      "Batch:  399\n",
      "    Loss:    0.3035\n",
      "     Rec:    0.3035\n",
      "    Disc:    0.0000\n",
      "Batch:  456\n",
      "    Loss:    0.2998\n",
      "     Rec:    0.2998\n",
      "    Disc:    0.0000\n",
      "Batch:  513\n",
      "    Loss:    0.2959\n",
      "     Rec:    0.2959\n",
      "    Disc:    0.0000\n",
      "Batch:  570\n",
      "    Loss:    0.2913\n",
      "     Rec:    0.2913\n",
      "    Disc:    0.0000\n",
      "Batch:  627\n",
      "    Loss:    0.2869\n",
      "     Rec:    0.2869\n",
      "    Disc:    0.0000\n",
      "Batch:  684\n",
      "    Loss:    0.2837\n",
      "     Rec:    0.2837\n",
      "    Disc:    0.0000\n",
      "Batch:  741\n",
      "    Loss:    0.2804\n",
      "     Rec:    0.2804\n",
      "    Disc:    0.0000\n",
      "Batch:  798\n",
      "    Loss:    0.2769\n",
      "     Rec:    0.2769\n",
      "    Disc:    0.0000\n",
      "Batch:  855\n",
      "    Loss:    0.2725\n",
      "     Rec:    0.2725\n",
      "    Disc:    0.0000\n",
      "Batch:  912\n",
      "    Loss:    0.2685\n",
      "     Rec:    0.2685\n",
      "    Disc:    0.0000\n",
      "Batch:  969\n",
      "    Loss:    0.2632\n",
      "     Rec:    0.2632\n",
      "    Disc:    0.0000\n",
      "Batch:  1026\n",
      "    Loss:    0.2584\n",
      "     Rec:    0.2584\n",
      "    Disc:    0.0000\n",
      "Batch:  1083\n",
      "    Loss:    0.2531\n",
      "     Rec:    0.2531\n",
      "    Disc:    0.0000\n",
      "Batch:  1140\n",
      "    Loss:    0.2480\n",
      "     Rec:    0.2480\n",
      "    Disc:    0.0000\n",
      "Batch:  1197\n",
      "    Loss:    0.2416\n",
      "     Rec:    0.2416\n",
      "    Disc:    0.0000\n",
      "Batch:  1254\n",
      "    Loss:    0.2342\n",
      "     Rec:    0.2342\n",
      "    Disc:    0.0000\n",
      "Batch:  1311\n",
      "    Loss:    0.2278\n",
      "     Rec:    0.2278\n",
      "    Disc:    0.0000\n",
      "Batch:  1368\n",
      "    Loss:    0.2196\n",
      "     Rec:    0.2196\n",
      "    Disc:    0.0000\n",
      "Batch:  1710\n",
      "    Loss:    0.1618\n",
      "     Rec:    0.1618\n",
      "    Disc:    0.0000\n",
      "Batch:  57\n",
      "    Loss:    0.1498\n",
      "     Rec:    0.1498\n",
      "    Disc:    0.0000\n",
      "Batch:  114\n",
      "    Loss:    0.1418\n",
      "     Rec:    0.1418\n",
      "    Disc:    0.0000\n",
      "Batch:  171\n",
      "    Loss:    0.1344\n",
      "     Rec:    0.1344\n",
      "    Disc:    0.0000\n",
      "Batch:  228\n",
      "    Loss:    0.1273\n",
      "     Rec:    0.1273\n",
      "    Disc:    0.0000\n",
      "Batch:  285\n",
      "    Loss:    0.1204\n",
      "     Rec:    0.1204\n",
      "    Disc:    0.0000\n",
      "Batch:  342\n",
      "    Loss:    0.1141\n",
      "     Rec:    0.1141\n",
      "    Disc:    0.0000\n",
      "Batch:  399\n",
      "    Loss:    0.1082\n",
      "     Rec:    0.1082\n",
      "    Disc:    0.0000\n",
      "Batch:  456\n",
      "    Loss:    0.1028\n",
      "     Rec:    0.1028\n",
      "    Disc:    0.0000\n",
      "Batch:  513\n",
      "    Loss:    0.0980\n",
      "     Rec:    0.0980\n",
      "    Disc:    0.0000\n",
      "Batch:  570\n",
      "    Loss:    0.0921\n",
      "     Rec:    0.0921\n",
      "    Disc:    0.0000\n",
      "Batch:  627\n",
      "    Loss:    0.0863\n",
      "     Rec:    0.0863\n",
      "    Disc:    0.0000\n",
      "Batch:  684\n",
      "    Loss:    0.0846\n",
      "     Rec:    0.0846\n",
      "    Disc:    0.0000\n",
      "Batch:  741\n",
      "    Loss:    0.0784\n",
      "     Rec:    0.0784\n",
      "    Disc:    0.0000\n",
      "Batch:  798\n",
      "    Loss:    0.0756\n",
      "     Rec:    0.0756\n",
      "    Disc:    0.0000\n",
      "Batch:  1140\n",
      "    Loss:    0.0620\n",
      "     Rec:    0.0620\n",
      "    Disc:    0.0000\n",
      "Batch:  1197\n",
      "    Loss:    0.0608\n",
      "     Rec:    0.0608\n",
      "    Disc:    0.0000\n",
      "Batch:  1254\n",
      "    Loss:    0.0500\n",
      "     Rec:    0.0500\n",
      "    Disc:    0.0000\n",
      "Batch:  1311\n",
      "    Loss:    0.0601\n",
      "     Rec:    0.0601\n",
      "    Disc:    0.0000\n",
      "Batch:  1368\n",
      "    Loss:    0.0605\n",
      "     Rec:    0.0605\n",
      "    Disc:    0.0000\n",
      "Batch:  1425\n",
      "    Loss:    0.0568\n",
      "     Rec:    0.0568\n",
      "    Disc:    0.0000\n",
      "Batch:  1482\n",
      "    Loss:    0.0498\n",
      "     Rec:    0.0498\n",
      "    Disc:    0.0000\n",
      "Batch:  1539\n",
      "    Loss:    0.0441\n",
      "     Rec:    0.0441\n",
      "    Disc:    0.0000\n",
      "Batch:  1596\n",
      "    Loss:    0.0450\n",
      "     Rec:    0.0450\n",
      "    Disc:    0.0000\n",
      "Batch:  1653\n",
      "    Loss:    0.0471\n",
      "     Rec:    0.0471\n",
      "    Disc:    0.0000\n",
      "Batch:  1710\n",
      "    Loss:    0.0438\n",
      "     Rec:    0.0438\n",
      "    Disc:    0.0000\n",
      "==================== PR FT ====================\n"
     ]
    },
    {
     "data": {
      "application/vnd.jupyter.widget-view+json": {
       "model_id": "d30ff7ca185b47a1996673d1b6342a96",
       "version_major": 2,
       "version_minor": 0
      },
      "text/plain": [
       "Epochs:   0%|          | 0/2 [00:00<?,?it/s]"
      ]
     },
     "metadata": {},
     "output_type": "display_data"
    },
    {
     "data": {
      "text/plain": [
       "<tqdm.notebook.tqdm_notebook at 0x7f19bc406350>"
      ]
     },
     "metadata": {},
     "output_type": "display_data"
    },
    {
     "data": {
      "application/vnd.jupyter.widget-view+json": {
       "model_id": "9b74832208174127adf850010e160adb",
       "version_major": 2,
       "version_minor": 0
      },
      "text/plain": [
       "Batches:   0%|          | 0/1729 [00:00<?,?it/s]"
      ]
     },
     "metadata": {},
     "output_type": "display_data"
    },
    {
     "data": {
      "text/plain": [
       "<tqdm.notebook.tqdm_notebook at 0x7f1918af2a40>"
      ]
     },
     "metadata": {},
     "output_type": "display_data"
    },
    {
     "name": "stdout",
     "output_type": "stream",
     "text": [
      "Batch:  57\n",
      "    Loss:    0.2636\n",
      "Batch:  114\n",
      "    Loss:    0.2553\n",
      "Batch:  171\n",
      "    Loss:    0.2368\n",
      "Batch:  228\n",
      "    Loss:    0.2457\n",
      "Batch:  285\n",
      "    Loss:    0.2274\n",
      "Batch:  570\n",
      "    Loss:    0.1804\n",
      "Batch:  627\n",
      "    Loss:    0.1773\n",
      "Batch:  684\n",
      "    Loss:    0.1608\n",
      "Batch:  741\n",
      "    Loss:    0.1513\n",
      "Batch:  798\n",
      "    Loss:    0.1402\n",
      "Batch:  855\n",
      "    Loss:    0.1333\n",
      "Batch:  912\n",
      "    Loss:    0.1266\n",
      "Batch:  969\n",
      "    Loss:    0.1120\n",
      "Batch:  1026\n",
      "    Loss:    0.1021\n",
      "Batch:  1083\n",
      "    Loss:    0.0945\n",
      "Batch:  1140\n",
      "    Loss:    0.0844\n",
      "Batch:  1197\n",
      "    Loss:    0.0818\n",
      "Batch:  1254\n",
      "    Loss:    0.0722\n",
      "Batch:  1311\n",
      "    Loss:    0.0610\n",
      "Batch:  1368\n",
      "    Loss:    0.0612\n",
      "Batch:  1425\n",
      "    Loss:    0.0515\n",
      "Batch:  1482\n",
      "    Loss:    0.0390\n",
      "Batch:  1539\n",
      "    Loss:    0.0362\n",
      "Batch:  1596\n",
      "    Loss:    0.0293\n",
      "Batch:  1653\n",
      "    Loss:    0.0260\n",
      "Batch:  1710\n",
      "    Loss:    0.0241\n",
      "Batch:  57\n",
      "    Loss:    0.0199\n",
      "Batch:  114\n",
      "    Loss:    0.0187\n",
      "Batch:  171\n",
      "    Loss:    0.0174\n",
      "Batch:  228\n",
      "    Loss:    0.0148\n",
      "Batch:  285\n",
      "    Loss:    0.0141\n",
      "Batch:  342\n",
      "    Loss:    0.0130\n",
      "Batch:  399\n",
      "    Loss:    0.0120\n",
      "Batch:  456\n",
      "    Loss:    0.0114\n",
      "Batch:  513\n",
      "    Loss:    0.0105\n",
      "Batch:  570\n",
      "    Loss:    0.0098\n",
      "Batch:  627\n",
      "    Loss:    0.0093\n",
      "Batch:  684\n",
      "    Loss:    0.0086\n",
      "Batch:  741\n",
      "    Loss:    0.0079\n",
      "Batch:  798\n",
      "    Loss:    0.0076\n",
      "Batch:  855\n",
      "    Loss:    0.0084\n",
      "Batch:  912\n",
      "    Loss:    0.0068\n",
      "Batch:  969\n",
      "    Loss:    0.0065\n",
      "Batch:  1026\n",
      "    Loss:    0.0062\n",
      "Batch:  1083\n",
      "    Loss:    0.0060\n",
      "Batch:  1140\n",
      "    Loss:    0.0057\n",
      "Batch:  1197\n",
      "    Loss:    0.0055\n",
      "Batch:  1254\n",
      "    Loss:    0.0052\n",
      "Batch:  1311\n",
      "    Loss:    0.0051\n",
      "Batch:  1368\n",
      "    Loss:    0.0047\n",
      "Batch:  1425\n",
      "    Loss:    0.0049\n",
      "Batch:  1482\n",
      "    Loss:    0.0044\n",
      "Batch:  1539\n",
      "    Loss:    0.0044\n",
      "Batch:  1596\n",
      "    Loss:    0.0041\n",
      "Batch:  1653\n",
      "    Loss:    0.0040\n",
      "Batch:  1710\n",
      "    Loss:    0.0040\n"
     ]
    },
    {
     "data": {
      "application/vnd.jupyter.widget-view+json": {
       "model_id": "191da0ed4e3d4b5cbe5a0e55a7c00a12",
       "version_major": 2,
       "version_minor": 0
      },
      "text/plain": [
       "Batches:   0%|          | 0/2000 [00:00<?,?it/s]"
      ]
     },
     "metadata": {},
     "output_type": "display_data"
    },
    {
     "data": {
      "application/vnd.jupyter.widget-view+json": {
       "model_id": "7285c1fd3e134a85ac9162491da679a3",
       "version_major": 2,
       "version_minor": 0
      },
      "text/plain": [
       "Batches:   0%|          | 0/4000 [00:00<?,?it/s]"
      ]
     },
     "metadata": {},
     "output_type": "display_data"
    },
    {
     "data": {
      "text/plain": [
       "<tqdm.notebook.tqdm_notebook at 0x7f19a5a1a8c0>"
      ]
     },
     "metadata": {},
     "output_type": "display_data"
    },
    {
     "data": {
      "text/plain": [
       "<Figure size 1000x500 with 0 Axes>"
      ]
     },
     "metadata": {},
     "output_type": "display_data"
    },
    {
     "data": {
      "text/plain": [
       "<Figure size 1000x500 with 0 Axes>"
      ]
     },
     "metadata": {},
     "output_type": "display_data"
    },
    {
     "data": {
      "text/plain": [
       "<Figure size 1000x500 with 0 Axes>"
      ]
     },
     "metadata": {},
     "output_type": "display_data"
    },
    {
     "data": {
      "text/plain": [
       "<Figure size 1000x500 with 0 Axes>"
      ]
     },
     "metadata": {},
     "output_type": "display_data"
    },
    {
     "data": {
      "text/plain": [
       "<Figure size 1000x500 with 0 Axes>"
      ]
     },
     "metadata": {},
     "output_type": "display_data"
    },
    {
     "data": {
      "text/plain": [
       "<Figure size 1000x500 with 0 Axes>"
      ]
     },
     "metadata": {},
     "output_type": "display_data"
    },
    {
     "data": {
      "text/plain": [
       "<Figure size 1000x500 with 0 Axes>"
      ]
     },
     "metadata": {},
     "output_type": "display_data"
    },
    {
     "data": {
      "text/plain": [
       "<Figure size 1000x500 with 0 Axes>"
      ]
     },
     "metadata": {},
     "output_type": "display_data"
    },
    {
     "data": {
      "text/plain": [
       "<Figure size 1000x500 with 0 Axes>"
      ]
     },
     "metadata": {},
     "output_type": "display_data"
    },
    {
     "data": {
      "text/plain": [
       "<Figure size 1000x500 with 0 Axes>"
      ]
     },
     "metadata": {},
     "output_type": "display_data"
    },
    {
     "data": {
      "text/plain": [
       "<Figure size 1000x500 with 0 Axes>"
      ]
     },
     "metadata": {},
     "output_type": "display_data"
    },
    {
     "data": {
      "text/plain": [
       "<Figure size 1000x500 with 0 Axes>"
      ]
     },
     "metadata": {},
     "output_type": "display_data"
    },
    {
     "data": {
      "text/plain": [
       "<Figure size 1000x500 with 0 Axes>"
      ]
     },
     "metadata": {},
     "output_type": "display_data"
    },
    {
     "data": {
      "text/plain": [
       "<Figure size 1000x500 with 0 Axes>"
      ]
     },
     "metadata": {},
     "output_type": "display_data"
    },
    {
     "data": {
      "text/plain": [
       "<Figure size 1000x500 with 0 Axes>"
      ]
     },
     "metadata": {},
     "output_type": "display_data"
    },
    {
     "data": {
      "text/plain": [
       "<Figure size 1000x500 with 0 Axes>"
      ]
     },
     "metadata": {},
     "output_type": "display_data"
    },
    {
     "data": {
      "text/plain": [
       "<Figure size 1000x500 with 0 Axes>"
      ]
     },
     "metadata": {},
     "output_type": "display_data"
    },
    {
     "data": {
      "text/plain": [
       "<Figure size 1000x500 with 0 Axes>"
      ]
     },
     "metadata": {},
     "output_type": "display_data"
    },
    {
     "data": {
      "text/plain": [
       "<Figure size 1000x500 with 0 Axes>"
      ]
     },
     "metadata": {},
     "output_type": "display_data"
    },
    {
     "data": {
      "text/plain": [
       "<Figure size 1000x500 with 0 Axes>"
      ]
     },
     "metadata": {},
     "output_type": "display_data"
    },
    {
     "data": {
      "text/plain": [
       "<Figure size 1000x500 with 0 Axes>"
      ]
     },
     "metadata": {},
     "output_type": "display_data"
    },
    {
     "data": {
      "text/plain": [
       "<Figure size 1000x500 with 0 Axes>"
      ]
     },
     "metadata": {},
     "output_type": "display_data"
    },
    {
     "data": {
      "text/plain": [
       "<Figure size 1000x500 with 0 Axes>"
      ]
     },
     "metadata": {},
     "output_type": "display_data"
    },
    {
     "data": {
      "text/plain": [
       "<Figure size 1000x500 with 0 Axes>"
      ]
     },
     "metadata": {},
     "output_type": "display_data"
    },
    {
     "data": {
      "text/plain": [
       "<Figure size 1000x500 with 0 Axes>"
      ]
     },
     "metadata": {},
     "output_type": "display_data"
    },
    {
     "data": {
      "text/plain": [
       "<Figure size 1000x500 with 0 Axes>"
      ]
     },
     "metadata": {},
     "output_type": "display_data"
    },
    {
     "data": {
      "text/plain": [
       "<Figure size 1000x500 with 0 Axes>"
      ]
     },
     "metadata": {},
     "output_type": "display_data"
    },
    {
     "data": {
      "text/plain": [
       "<Figure size 1000x500 with 0 Axes>"
      ]
     },
     "metadata": {},
     "output_type": "display_data"
    },
    {
     "data": {
      "text/plain": [
       "<Figure size 1000x500 with 0 Axes>"
      ]
     },
     "metadata": {},
     "output_type": "display_data"
    },
    {
     "data": {
      "text/plain": [
       "<Figure size 1000x500 with 0 Axes>"
      ]
     },
     "metadata": {},
     "output_type": "display_data"
    },
    {
     "data": {
      "text/plain": [
       "<Figure size 1000x500 with 0 Axes>"
      ]
     },
     "metadata": {},
     "output_type": "display_data"
    },
    {
     "data": {
      "text/plain": [
       "<Figure size 1000x500 with 0 Axes>"
      ]
     },
     "metadata": {},
     "output_type": "display_data"
    },
    {
     "data": {
      "text/plain": [
       "<Figure size 1000x500 with 0 Axes>"
      ]
     },
     "metadata": {},
     "output_type": "display_data"
    },
    {
     "data": {
      "text/plain": [
       "<Figure size 1000x500 with 0 Axes>"
      ]
     },
     "metadata": {},
     "output_type": "display_data"
    },
    {
     "data": {
      "text/plain": [
       "<Figure size 1000x500 with 0 Axes>"
      ]
     },
     "metadata": {},
     "output_type": "display_data"
    },
    {
     "data": {
      "text/plain": [
       "<Figure size 1000x500 with 0 Axes>"
      ]
     },
     "metadata": {},
     "output_type": "display_data"
    },
    {
     "data": {
      "text/plain": [
       "<Figure size 1000x500 with 0 Axes>"
      ]
     },
     "metadata": {},
     "output_type": "display_data"
    },
    {
     "data": {
      "text/plain": [
       "<Figure size 1000x500 with 0 Axes>"
      ]
     },
     "metadata": {},
     "output_type": "display_data"
    },
    {
     "data": {
      "text/plain": [
       "<Figure size 1000x500 with 0 Axes>"
      ]
     },
     "metadata": {},
     "output_type": "display_data"
    },
    {
     "data": {
      "text/plain": [
       "<Figure size 1000x500 with 0 Axes>"
      ]
     },
     "metadata": {},
     "output_type": "display_data"
    },
    {
     "data": {
      "text/plain": [
       "<Figure size 1000x500 with 0 Axes>"
      ]
     },
     "metadata": {},
     "output_type": "display_data"
    },
    {
     "data": {
      "text/plain": [
       "<Figure size 1000x500 with 0 Axes>"
      ]
     },
     "metadata": {},
     "output_type": "display_data"
    },
    {
     "data": {
      "text/plain": [
       "<Figure size 1000x500 with 0 Axes>"
      ]
     },
     "metadata": {},
     "output_type": "display_data"
    },
    {
     "data": {
      "text/plain": [
       "<Figure size 1000x500 with 0 Axes>"
      ]
     },
     "metadata": {},
     "output_type": "display_data"
    },
    {
     "data": {
      "text/plain": [
       "<Figure size 1000x500 with 0 Axes>"
      ]
     },
     "metadata": {},
     "output_type": "display_data"
    },
    {
     "data": {
      "text/plain": [
       "<Figure size 1000x500 with 0 Axes>"
      ]
     },
     "metadata": {},
     "output_type": "display_data"
    },
    {
     "data": {
      "text/plain": [
       "<Figure size 1000x500 with 0 Axes>"
      ]
     },
     "metadata": {},
     "output_type": "display_data"
    },
    {
     "data": {
      "text/plain": [
       "<Figure size 1000x500 with 0 Axes>"
      ]
     },
     "metadata": {},
     "output_type": "display_data"
    },
    {
     "data": {
      "text/plain": [
       "<Figure size 1000x500 with 0 Axes>"
      ]
     },
     "metadata": {},
     "output_type": "display_data"
    },
    {
     "data": {
      "text/plain": [
       "<Figure size 1000x500 with 0 Axes>"
      ]
     },
     "metadata": {},
     "output_type": "display_data"
    },
    {
     "data": {
      "text/plain": [
       "<Figure size 1000x500 with 0 Axes>"
      ]
     },
     "metadata": {},
     "output_type": "display_data"
    },
    {
     "data": {
      "text/plain": [
       "<Figure size 1000x500 with 0 Axes>"
      ]
     },
     "metadata": {},
     "output_type": "display_data"
    },
    {
     "data": {
      "text/plain": [
       "<Figure size 1000x500 with 0 Axes>"
      ]
     },
     "metadata": {},
     "output_type": "display_data"
    },
    {
     "data": {
      "text/plain": [
       "<Figure size 1000x500 with 0 Axes>"
      ]
     },
     "metadata": {},
     "output_type": "display_data"
    },
    {
     "data": {
      "text/plain": [
       "<Figure size 1000x500 with 0 Axes>"
      ]
     },
     "metadata": {},
     "output_type": "display_data"
    },
    {
     "data": {
      "text/plain": [
       "<Figure size 1000x500 with 0 Axes>"
      ]
     },
     "metadata": {},
     "output_type": "display_data"
    },
    {
     "data": {
      "text/plain": [
       "<Figure size 1000x500 with 0 Axes>"
      ]
     },
     "metadata": {},
     "output_type": "display_data"
    },
    {
     "data": {
      "text/plain": [
       "<Figure size 1000x500 with 0 Axes>"
      ]
     },
     "metadata": {},
     "output_type": "display_data"
    },
    {
     "data": {
      "text/plain": [
       "<Figure size 1000x500 with 0 Axes>"
      ]
     },
     "metadata": {},
     "output_type": "display_data"
    },
    {
     "data": {
      "text/plain": [
       "<Figure size 1000x500 with 0 Axes>"
      ]
     },
     "metadata": {},
     "output_type": "display_data"
    },
    {
     "data": {
      "text/plain": [
       "<Figure size 1000x500 with 0 Axes>"
      ]
     },
     "metadata": {},
     "output_type": "display_data"
    },
    {
     "data": {
      "text/plain": [
       "<Figure size 1000x500 with 0 Axes>"
      ]
     },
     "metadata": {},
     "output_type": "display_data"
    },
    {
     "data": {
      "text/plain": [
       "<Figure size 1000x500 with 0 Axes>"
      ]
     },
     "metadata": {},
     "output_type": "display_data"
    },
    {
     "data": {
      "text/plain": [
       "<Figure size 1000x500 with 0 Axes>"
      ]
     },
     "metadata": {},
     "output_type": "display_data"
    },
    {
     "data": {
      "text/plain": [
       "<Figure size 1000x500 with 0 Axes>"
      ]
     },
     "metadata": {},
     "output_type": "display_data"
    },
    {
     "data": {
      "text/plain": [
       "<Figure size 1000x500 with 0 Axes>"
      ]
     },
     "metadata": {},
     "output_type": "display_data"
    },
    {
     "data": {
      "text/plain": [
       "<Figure size 1000x500 with 0 Axes>"
      ]
     },
     "metadata": {},
     "output_type": "display_data"
    },
    {
     "data": {
      "text/plain": [
       "<Figure size 1000x500 with 0 Axes>"
      ]
     },
     "metadata": {},
     "output_type": "display_data"
    },
    {
     "data": {
      "text/plain": [
       "<Figure size 1000x500 with 0 Axes>"
      ]
     },
     "metadata": {},
     "output_type": "display_data"
    },
    {
     "data": {
      "text/plain": [
       "<Figure size 1000x500 with 0 Axes>"
      ]
     },
     "metadata": {},
     "output_type": "display_data"
    },
    {
     "data": {
      "text/plain": [
       "<Figure size 1000x500 with 0 Axes>"
      ]
     },
     "metadata": {},
     "output_type": "display_data"
    },
    {
     "data": {
      "text/plain": [
       "<Figure size 1000x500 with 0 Axes>"
      ]
     },
     "metadata": {},
     "output_type": "display_data"
    },
    {
     "data": {
      "text/plain": [
       "<Figure size 1000x500 with 0 Axes>"
      ]
     },
     "metadata": {},
     "output_type": "display_data"
    },
    {
     "data": {
      "text/plain": [
       "<Figure size 1000x500 with 0 Axes>"
      ]
     },
     "metadata": {},
     "output_type": "display_data"
    },
    {
     "data": {
      "text/plain": [
       "<Figure size 1000x500 with 0 Axes>"
      ]
     },
     "metadata": {},
     "output_type": "display_data"
    },
    {
     "data": {
      "text/plain": [
       "<Figure size 1000x500 with 0 Axes>"
      ]
     },
     "metadata": {},
     "output_type": "display_data"
    },
    {
     "data": {
      "text/plain": [
       "<Figure size 1000x500 with 0 Axes>"
      ]
     },
     "metadata": {},
     "output_type": "display_data"
    },
    {
     "data": {
      "text/plain": [
       "<Figure size 1000x500 with 0 Axes>"
      ]
     },
     "metadata": {},
     "output_type": "display_data"
    },
    {
     "data": {
      "text/plain": [
       "<Figure size 1000x500 with 0 Axes>"
      ]
     },
     "metadata": {},
     "output_type": "display_data"
    },
    {
     "data": {
      "text/plain": [
       "<Figure size 1000x500 with 0 Axes>"
      ]
     },
     "metadata": {},
     "output_type": "display_data"
    },
    {
     "data": {
      "text/plain": [
       "<Figure size 1000x500 with 0 Axes>"
      ]
     },
     "metadata": {},
     "output_type": "display_data"
    },
    {
     "data": {
      "text/plain": [
       "<Figure size 1000x500 with 0 Axes>"
      ]
     },
     "metadata": {},
     "output_type": "display_data"
    },
    {
     "data": {
      "text/plain": [
       "<Figure size 1000x500 with 0 Axes>"
      ]
     },
     "metadata": {},
     "output_type": "display_data"
    },
    {
     "data": {
      "text/plain": [
       "<Figure size 1000x500 with 0 Axes>"
      ]
     },
     "metadata": {},
     "output_type": "display_data"
    },
    {
     "data": {
      "text/plain": [
       "<Figure size 1000x500 with 0 Axes>"
      ]
     },
     "metadata": {},
     "output_type": "display_data"
    },
    {
     "data": {
      "text/plain": [
       "<Figure size 1000x500 with 0 Axes>"
      ]
     },
     "metadata": {},
     "output_type": "display_data"
    },
    {
     "data": {
      "text/plain": [
       "<Figure size 1000x500 with 0 Axes>"
      ]
     },
     "metadata": {},
     "output_type": "display_data"
    },
    {
     "data": {
      "text/plain": [
       "<Figure size 1000x500 with 0 Axes>"
      ]
     },
     "metadata": {},
     "output_type": "display_data"
    },
    {
     "data": {
      "text/plain": [
       "<Figure size 1000x500 with 0 Axes>"
      ]
     },
     "metadata": {},
     "output_type": "display_data"
    },
    {
     "data": {
      "text/plain": [
       "<Figure size 1000x500 with 0 Axes>"
      ]
     },
     "metadata": {},
     "output_type": "display_data"
    },
    {
     "data": {
      "text/plain": [
       "<Figure size 1000x500 with 0 Axes>"
      ]
     },
     "metadata": {},
     "output_type": "display_data"
    },
    {
     "data": {
      "text/plain": [
       "<Figure size 1000x500 with 0 Axes>"
      ]
     },
     "metadata": {},
     "output_type": "display_data"
    },
    {
     "data": {
      "text/plain": [
       "<Figure size 1000x500 with 0 Axes>"
      ]
     },
     "metadata": {},
     "output_type": "display_data"
    },
    {
     "data": {
      "text/plain": [
       "<Figure size 1000x500 with 0 Axes>"
      ]
     },
     "metadata": {},
     "output_type": "display_data"
    },
    {
     "data": {
      "text/plain": [
       "<Figure size 1000x500 with 0 Axes>"
      ]
     },
     "metadata": {},
     "output_type": "display_data"
    },
    {
     "data": {
      "text/plain": [
       "<Figure size 1000x500 with 0 Axes>"
      ]
     },
     "metadata": {},
     "output_type": "display_data"
    },
    {
     "data": {
      "text/plain": [
       "<Figure size 1000x500 with 0 Axes>"
      ]
     },
     "metadata": {},
     "output_type": "display_data"
    },
    {
     "data": {
      "text/plain": [
       "<Figure size 1000x500 with 0 Axes>"
      ]
     },
     "metadata": {},
     "output_type": "display_data"
    },
    {
     "data": {
      "text/plain": [
       "<Figure size 1000x500 with 0 Axes>"
      ]
     },
     "metadata": {},
     "output_type": "display_data"
    },
    {
     "data": {
      "text/plain": [
       "<Figure size 1000x500 with 0 Axes>"
      ]
     },
     "metadata": {},
     "output_type": "display_data"
    },
    {
     "data": {
      "text/plain": [
       "<Figure size 1000x500 with 0 Axes>"
      ]
     },
     "metadata": {},
     "output_type": "display_data"
    },
    {
     "data": {
      "text/plain": [
       "<Figure size 1000x500 with 0 Axes>"
      ]
     },
     "metadata": {},
     "output_type": "display_data"
    },
    {
     "data": {
      "text/plain": [
       "<Figure size 1000x500 with 0 Axes>"
      ]
     },
     "metadata": {},
     "output_type": "display_data"
    },
    {
     "data": {
      "text/plain": [
       "<Figure size 1000x500 with 0 Axes>"
      ]
     },
     "metadata": {},
     "output_type": "display_data"
    },
    {
     "data": {
      "text/plain": [
       "<Figure size 1000x500 with 0 Axes>"
      ]
     },
     "metadata": {},
     "output_type": "display_data"
    },
    {
     "data": {
      "text/plain": [
       "<Figure size 1000x500 with 0 Axes>"
      ]
     },
     "metadata": {},
     "output_type": "display_data"
    },
    {
     "data": {
      "text/plain": [
       "<Figure size 1000x500 with 0 Axes>"
      ]
     },
     "metadata": {},
     "output_type": "display_data"
    },
    {
     "data": {
      "text/plain": [
       "<Figure size 1000x500 with 0 Axes>"
      ]
     },
     "metadata": {},
     "output_type": "display_data"
    },
    {
     "data": {
      "text/plain": [
       "<Figure size 1000x500 with 0 Axes>"
      ]
     },
     "metadata": {},
     "output_type": "display_data"
    },
    {
     "data": {
      "text/plain": [
       "<Figure size 1000x500 with 0 Axes>"
      ]
     },
     "metadata": {},
     "output_type": "display_data"
    },
    {
     "data": {
      "text/plain": [
       "<Figure size 1000x500 with 0 Axes>"
      ]
     },
     "metadata": {},
     "output_type": "display_data"
    },
    {
     "data": {
      "text/plain": [
       "<Figure size 1000x500 with 0 Axes>"
      ]
     },
     "metadata": {},
     "output_type": "display_data"
    },
    {
     "data": {
      "text/plain": [
       "<Figure size 1000x500 with 0 Axes>"
      ]
     },
     "metadata": {},
     "output_type": "display_data"
    },
    {
     "data": {
      "text/plain": [
       "<Figure size 1000x500 with 0 Axes>"
      ]
     },
     "metadata": {},
     "output_type": "display_data"
    },
    {
     "data": {
      "text/plain": [
       "<Figure size 1000x500 with 0 Axes>"
      ]
     },
     "metadata": {},
     "output_type": "display_data"
    },
    {
     "data": {
      "text/plain": [
       "<Figure size 1000x500 with 0 Axes>"
      ]
     },
     "metadata": {},
     "output_type": "display_data"
    },
    {
     "data": {
      "text/plain": [
       "<Figure size 1000x500 with 0 Axes>"
      ]
     },
     "metadata": {},
     "output_type": "display_data"
    },
    {
     "data": {
      "text/plain": [
       "<Figure size 1000x500 with 0 Axes>"
      ]
     },
     "metadata": {},
     "output_type": "display_data"
    },
    {
     "data": {
      "text/plain": [
       "<Figure size 1000x500 with 0 Axes>"
      ]
     },
     "metadata": {},
     "output_type": "display_data"
    },
    {
     "data": {
      "text/plain": [
       "<Figure size 1000x500 with 0 Axes>"
      ]
     },
     "metadata": {},
     "output_type": "display_data"
    },
    {
     "data": {
      "text/plain": [
       "<Figure size 1000x500 with 0 Axes>"
      ]
     },
     "metadata": {},
     "output_type": "display_data"
    },
    {
     "data": {
      "text/plain": [
       "<Figure size 1000x500 with 0 Axes>"
      ]
     },
     "metadata": {},
     "output_type": "display_data"
    },
    {
     "data": {
      "text/plain": [
       "<Figure size 1000x500 with 0 Axes>"
      ]
     },
     "metadata": {},
     "output_type": "display_data"
    },
    {
     "data": {
      "text/plain": [
       "<Figure size 1000x500 with 0 Axes>"
      ]
     },
     "metadata": {},
     "output_type": "display_data"
    },
    {
     "data": {
      "text/plain": [
       "<Figure size 1000x500 with 0 Axes>"
      ]
     },
     "metadata": {},
     "output_type": "display_data"
    },
    {
     "data": {
      "text/plain": [
       "<Figure size 1000x500 with 0 Axes>"
      ]
     },
     "metadata": {},
     "output_type": "display_data"
    },
    {
     "data": {
      "text/plain": [
       "<Figure size 1000x500 with 0 Axes>"
      ]
     },
     "metadata": {},
     "output_type": "display_data"
    },
    {
     "data": {
      "text/plain": [
       "<Figure size 1000x500 with 0 Axes>"
      ]
     },
     "metadata": {},
     "output_type": "display_data"
    },
    {
     "data": {
      "text/plain": [
       "<Figure size 1000x500 with 0 Axes>"
      ]
     },
     "metadata": {},
     "output_type": "display_data"
    },
    {
     "data": {
      "text/plain": [
       "<Figure size 1000x500 with 0 Axes>"
      ]
     },
     "metadata": {},
     "output_type": "display_data"
    },
    {
     "data": {
      "text/plain": [
       "<Figure size 1000x500 with 0 Axes>"
      ]
     },
     "metadata": {},
     "output_type": "display_data"
    },
    {
     "data": {
      "text/plain": [
       "<Figure size 1000x500 with 0 Axes>"
      ]
     },
     "metadata": {},
     "output_type": "display_data"
    },
    {
     "data": {
      "text/plain": [
       "<Figure size 1000x500 with 0 Axes>"
      ]
     },
     "metadata": {},
     "output_type": "display_data"
    },
    {
     "data": {
      "text/plain": [
       "<Figure size 1000x500 with 0 Axes>"
      ]
     },
     "metadata": {},
     "output_type": "display_data"
    },
    {
     "data": {
      "text/plain": [
       "<Figure size 1000x500 with 0 Axes>"
      ]
     },
     "metadata": {},
     "output_type": "display_data"
    },
    {
     "data": {
      "text/plain": [
       "<Figure size 1000x500 with 0 Axes>"
      ]
     },
     "metadata": {},
     "output_type": "display_data"
    },
    {
     "data": {
      "text/plain": [
       "<Figure size 1000x500 with 0 Axes>"
      ]
     },
     "metadata": {},
     "output_type": "display_data"
    },
    {
     "data": {
      "text/plain": [
       "<Figure size 1000x500 with 0 Axes>"
      ]
     },
     "metadata": {},
     "output_type": "display_data"
    },
    {
     "data": {
      "text/plain": [
       "<Figure size 1000x500 with 0 Axes>"
      ]
     },
     "metadata": {},
     "output_type": "display_data"
    },
    {
     "data": {
      "text/plain": [
       "<Figure size 1000x500 with 0 Axes>"
      ]
     },
     "metadata": {},
     "output_type": "display_data"
    },
    {
     "data": {
      "text/plain": [
       "<Figure size 1000x500 with 0 Axes>"
      ]
     },
     "metadata": {},
     "output_type": "display_data"
    },
    {
     "data": {
      "text/plain": [
       "<Figure size 1000x500 with 0 Axes>"
      ]
     },
     "metadata": {},
     "output_type": "display_data"
    },
    {
     "data": {
      "text/plain": [
       "<Figure size 1000x500 with 0 Axes>"
      ]
     },
     "metadata": {},
     "output_type": "display_data"
    },
    {
     "data": {
      "text/plain": [
       "<Figure size 1000x500 with 0 Axes>"
      ]
     },
     "metadata": {},
     "output_type": "display_data"
    },
    {
     "data": {
      "text/plain": [
       "<Figure size 1000x500 with 0 Axes>"
      ]
     },
     "metadata": {},
     "output_type": "display_data"
    },
    {
     "data": {
      "text/plain": [
       "<Figure size 1000x500 with 0 Axes>"
      ]
     },
     "metadata": {},
     "output_type": "display_data"
    },
    {
     "data": {
      "text/plain": [
       "<Figure size 1000x500 with 0 Axes>"
      ]
     },
     "metadata": {},
     "output_type": "display_data"
    },
    {
     "data": {
      "text/plain": [
       "<Figure size 1000x500 with 0 Axes>"
      ]
     },
     "metadata": {},
     "output_type": "display_data"
    },
    {
     "data": {
      "text/plain": [
       "<Figure size 1000x500 with 0 Axes>"
      ]
     },
     "metadata": {},
     "output_type": "display_data"
    },
    {
     "data": {
      "text/plain": [
       "<Figure size 1000x500 with 0 Axes>"
      ]
     },
     "metadata": {},
     "output_type": "display_data"
    },
    {
     "data": {
      "text/plain": [
       "<Figure size 1000x500 with 0 Axes>"
      ]
     },
     "metadata": {},
     "output_type": "display_data"
    },
    {
     "data": {
      "text/plain": [
       "<Figure size 1000x500 with 0 Axes>"
      ]
     },
     "metadata": {},
     "output_type": "display_data"
    },
    {
     "data": {
      "text/plain": [
       "<Figure size 1000x500 with 0 Axes>"
      ]
     },
     "metadata": {},
     "output_type": "display_data"
    },
    {
     "data": {
      "text/plain": [
       "<Figure size 1000x500 with 0 Axes>"
      ]
     },
     "metadata": {},
     "output_type": "display_data"
    },
    {
     "data": {
      "text/plain": [
       "<Figure size 1000x500 with 0 Axes>"
      ]
     },
     "metadata": {},
     "output_type": "display_data"
    },
    {
     "data": {
      "text/plain": [
       "<Figure size 1000x500 with 0 Axes>"
      ]
     },
     "metadata": {},
     "output_type": "display_data"
    },
    {
     "data": {
      "text/plain": [
       "<Figure size 1000x500 with 0 Axes>"
      ]
     },
     "metadata": {},
     "output_type": "display_data"
    },
    {
     "data": {
      "text/plain": [
       "<Figure size 1000x500 with 0 Axes>"
      ]
     },
     "metadata": {},
     "output_type": "display_data"
    },
    {
     "data": {
      "text/plain": [
       "<Figure size 1000x500 with 0 Axes>"
      ]
     },
     "metadata": {},
     "output_type": "display_data"
    },
    {
     "data": {
      "text/plain": [
       "<Figure size 1000x500 with 0 Axes>"
      ]
     },
     "metadata": {},
     "output_type": "display_data"
    },
    {
     "data": {
      "text/plain": [
       "<Figure size 1000x500 with 0 Axes>"
      ]
     },
     "metadata": {},
     "output_type": "display_data"
    },
    {
     "data": {
      "text/plain": [
       "<Figure size 1000x500 with 0 Axes>"
      ]
     },
     "metadata": {},
     "output_type": "display_data"
    },
    {
     "data": {
      "text/plain": [
       "<Figure size 1000x500 with 0 Axes>"
      ]
     },
     "metadata": {},
     "output_type": "display_data"
    },
    {
     "data": {
      "text/plain": [
       "<Figure size 1000x500 with 0 Axes>"
      ]
     },
     "metadata": {},
     "output_type": "display_data"
    },
    {
     "data": {
      "text/plain": [
       "<Figure size 1000x500 with 0 Axes>"
      ]
     },
     "metadata": {},
     "output_type": "display_data"
    },
    {
     "data": {
      "text/plain": [
       "<Figure size 1000x500 with 0 Axes>"
      ]
     },
     "metadata": {},
     "output_type": "display_data"
    },
    {
     "data": {
      "text/plain": [
       "<Figure size 1000x500 with 0 Axes>"
      ]
     },
     "metadata": {},
     "output_type": "display_data"
    },
    {
     "data": {
      "text/plain": [
       "<Figure size 1000x500 with 0 Axes>"
      ]
     },
     "metadata": {},
     "output_type": "display_data"
    },
    {
     "data": {
      "text/plain": [
       "<Figure size 1000x500 with 0 Axes>"
      ]
     },
     "metadata": {},
     "output_type": "display_data"
    },
    {
     "data": {
      "text/plain": [
       "<Figure size 1000x500 with 0 Axes>"
      ]
     },
     "metadata": {},
     "output_type": "display_data"
    },
    {
     "data": {
      "text/plain": [
       "<Figure size 1000x500 with 0 Axes>"
      ]
     },
     "metadata": {},
     "output_type": "display_data"
    },
    {
     "data": {
      "text/plain": [
       "<Figure size 1000x500 with 0 Axes>"
      ]
     },
     "metadata": {},
     "output_type": "display_data"
    },
    {
     "data": {
      "text/plain": [
       "<Figure size 1000x500 with 0 Axes>"
      ]
     },
     "metadata": {},
     "output_type": "display_data"
    },
    {
     "data": {
      "text/plain": [
       "<Figure size 1000x500 with 0 Axes>"
      ]
     },
     "metadata": {},
     "output_type": "display_data"
    },
    {
     "data": {
      "text/plain": [
       "<Figure size 1000x500 with 0 Axes>"
      ]
     },
     "metadata": {},
     "output_type": "display_data"
    },
    {
     "data": {
      "text/plain": [
       "<Figure size 1000x500 with 0 Axes>"
      ]
     },
     "metadata": {},
     "output_type": "display_data"
    },
    {
     "data": {
      "text/plain": [
       "<Figure size 1000x500 with 0 Axes>"
      ]
     },
     "metadata": {},
     "output_type": "display_data"
    },
    {
     "data": {
      "text/plain": [
       "<Figure size 1000x500 with 0 Axes>"
      ]
     },
     "metadata": {},
     "output_type": "display_data"
    },
    {
     "data": {
      "text/plain": [
       "<Figure size 1000x500 with 0 Axes>"
      ]
     },
     "metadata": {},
     "output_type": "display_data"
    },
    {
     "data": {
      "text/plain": [
       "<Figure size 1000x500 with 0 Axes>"
      ]
     },
     "metadata": {},
     "output_type": "display_data"
    },
    {
     "data": {
      "text/plain": [
       "<Figure size 1000x500 with 0 Axes>"
      ]
     },
     "metadata": {},
     "output_type": "display_data"
    },
    {
     "data": {
      "text/plain": [
       "<Figure size 1000x500 with 0 Axes>"
      ]
     },
     "metadata": {},
     "output_type": "display_data"
    },
    {
     "data": {
      "text/plain": [
       "<Figure size 1000x500 with 0 Axes>"
      ]
     },
     "metadata": {},
     "output_type": "display_data"
    },
    {
     "data": {
      "text/plain": [
       "<Figure size 1000x500 with 0 Axes>"
      ]
     },
     "metadata": {},
     "output_type": "display_data"
    },
    {
     "data": {
      "text/plain": [
       "<Figure size 1000x500 with 0 Axes>"
      ]
     },
     "metadata": {},
     "output_type": "display_data"
    },
    {
     "data": {
      "text/plain": [
       "<Figure size 1000x500 with 0 Axes>"
      ]
     },
     "metadata": {},
     "output_type": "display_data"
    },
    {
     "data": {
      "text/plain": [
       "<Figure size 1000x500 with 0 Axes>"
      ]
     },
     "metadata": {},
     "output_type": "display_data"
    },
    {
     "data": {
      "text/plain": [
       "<Figure size 1000x500 with 0 Axes>"
      ]
     },
     "metadata": {},
     "output_type": "display_data"
    },
    {
     "data": {
      "text/plain": [
       "<Figure size 1000x500 with 0 Axes>"
      ]
     },
     "metadata": {},
     "output_type": "display_data"
    },
    {
     "data": {
      "text/plain": [
       "<Figure size 1000x500 with 0 Axes>"
      ]
     },
     "metadata": {},
     "output_type": "display_data"
    },
    {
     "data": {
      "text/plain": [
       "<Figure size 1000x500 with 0 Axes>"
      ]
     },
     "metadata": {},
     "output_type": "display_data"
    },
    {
     "data": {
      "text/plain": [
       "<Figure size 1000x500 with 0 Axes>"
      ]
     },
     "metadata": {},
     "output_type": "display_data"
    },
    {
     "data": {
      "text/plain": [
       "<Figure size 1000x500 with 0 Axes>"
      ]
     },
     "metadata": {},
     "output_type": "display_data"
    },
    {
     "data": {
      "text/plain": [
       "<Figure size 1000x500 with 0 Axes>"
      ]
     },
     "metadata": {},
     "output_type": "display_data"
    },
    {
     "data": {
      "text/plain": [
       "<Figure size 1000x500 with 0 Axes>"
      ]
     },
     "metadata": {},
     "output_type": "display_data"
    },
    {
     "data": {
      "text/plain": [
       "<Figure size 1000x500 with 0 Axes>"
      ]
     },
     "metadata": {},
     "output_type": "display_data"
    },
    {
     "data": {
      "text/plain": [
       "<Figure size 1000x500 with 0 Axes>"
      ]
     },
     "metadata": {},
     "output_type": "display_data"
    },
    {
     "data": {
      "text/plain": [
       "<Figure size 1000x500 with 0 Axes>"
      ]
     },
     "metadata": {},
     "output_type": "display_data"
    },
    {
     "data": {
      "text/plain": [
       "<Figure size 1000x500 with 0 Axes>"
      ]
     },
     "metadata": {},
     "output_type": "display_data"
    },
    {
     "data": {
      "text/plain": [
       "<Figure size 1000x500 with 0 Axes>"
      ]
     },
     "metadata": {},
     "output_type": "display_data"
    },
    {
     "data": {
      "text/plain": [
       "<Figure size 1000x500 with 0 Axes>"
      ]
     },
     "metadata": {},
     "output_type": "display_data"
    },
    {
     "data": {
      "text/plain": [
       "<Figure size 1000x500 with 0 Axes>"
      ]
     },
     "metadata": {},
     "output_type": "display_data"
    },
    {
     "data": {
      "text/plain": [
       "<Figure size 1000x500 with 0 Axes>"
      ]
     },
     "metadata": {},
     "output_type": "display_data"
    },
    {
     "data": {
      "text/plain": [
       "<Figure size 1000x500 with 0 Axes>"
      ]
     },
     "metadata": {},
     "output_type": "display_data"
    },
    {
     "data": {
      "text/plain": [
       "<Figure size 1000x500 with 0 Axes>"
      ]
     },
     "metadata": {},
     "output_type": "display_data"
    },
    {
     "data": {
      "text/plain": [
       "<Figure size 1000x500 with 0 Axes>"
      ]
     },
     "metadata": {},
     "output_type": "display_data"
    },
    {
     "data": {
      "text/plain": [
       "<Figure size 1000x500 with 0 Axes>"
      ]
     },
     "metadata": {},
     "output_type": "display_data"
    },
    {
     "data": {
      "text/plain": [
       "<Figure size 1000x500 with 0 Axes>"
      ]
     },
     "metadata": {},
     "output_type": "display_data"
    },
    {
     "data": {
      "text/plain": [
       "<Figure size 1000x500 with 0 Axes>"
      ]
     },
     "metadata": {},
     "output_type": "display_data"
    },
    {
     "data": {
      "text/plain": [
       "<Figure size 1000x500 with 0 Axes>"
      ]
     },
     "metadata": {},
     "output_type": "display_data"
    },
    {
     "data": {
      "text/plain": [
       "<Figure size 1000x500 with 0 Axes>"
      ]
     },
     "metadata": {},
     "output_type": "display_data"
    },
    {
     "data": {
      "text/plain": [
       "<Figure size 1000x500 with 0 Axes>"
      ]
     },
     "metadata": {},
     "output_type": "display_data"
    },
    {
     "data": {
      "text/plain": [
       "<Figure size 1000x500 with 0 Axes>"
      ]
     },
     "metadata": {},
     "output_type": "display_data"
    },
    {
     "data": {
      "text/plain": [
       "<Figure size 1000x500 with 0 Axes>"
      ]
     },
     "metadata": {},
     "output_type": "display_data"
    },
    {
     "data": {
      "text/plain": [
       "<Figure size 1000x500 with 0 Axes>"
      ]
     },
     "metadata": {},
     "output_type": "display_data"
    },
    {
     "data": {
      "text/plain": [
       "<Figure size 1000x500 with 0 Axes>"
      ]
     },
     "metadata": {},
     "output_type": "display_data"
    },
    {
     "data": {
      "text/plain": [
       "<Figure size 1000x500 with 0 Axes>"
      ]
     },
     "metadata": {},
     "output_type": "display_data"
    },
    {
     "data": {
      "text/plain": [
       "<Figure size 1000x500 with 0 Axes>"
      ]
     },
     "metadata": {},
     "output_type": "display_data"
    },
    {
     "data": {
      "text/plain": [
       "<Figure size 1000x500 with 0 Axes>"
      ]
     },
     "metadata": {},
     "output_type": "display_data"
    },
    {
     "data": {
      "text/plain": [
       "<Figure size 1000x500 with 0 Axes>"
      ]
     },
     "metadata": {},
     "output_type": "display_data"
    },
    {
     "data": {
      "text/plain": [
       "<Figure size 1000x500 with 0 Axes>"
      ]
     },
     "metadata": {},
     "output_type": "display_data"
    },
    {
     "data": {
      "text/plain": [
       "<Figure size 1000x500 with 0 Axes>"
      ]
     },
     "metadata": {},
     "output_type": "display_data"
    },
    {
     "data": {
      "text/plain": [
       "<Figure size 1000x500 with 0 Axes>"
      ]
     },
     "metadata": {},
     "output_type": "display_data"
    },
    {
     "data": {
      "text/plain": [
       "<Figure size 1000x500 with 0 Axes>"
      ]
     },
     "metadata": {},
     "output_type": "display_data"
    },
    {
     "data": {
      "text/plain": [
       "<Figure size 1000x500 with 0 Axes>"
      ]
     },
     "metadata": {},
     "output_type": "display_data"
    },
    {
     "data": {
      "text/plain": [
       "<Figure size 1000x500 with 0 Axes>"
      ]
     },
     "metadata": {},
     "output_type": "display_data"
    },
    {
     "data": {
      "text/plain": [
       "<Figure size 1000x500 with 0 Axes>"
      ]
     },
     "metadata": {},
     "output_type": "display_data"
    },
    {
     "data": {
      "text/plain": [
       "<Figure size 1000x500 with 0 Axes>"
      ]
     },
     "metadata": {},
     "output_type": "display_data"
    },
    {
     "data": {
      "text/plain": [
       "<Figure size 1000x500 with 0 Axes>"
      ]
     },
     "metadata": {},
     "output_type": "display_data"
    },
    {
     "data": {
      "text/plain": [
       "<Figure size 1000x500 with 0 Axes>"
      ]
     },
     "metadata": {},
     "output_type": "display_data"
    },
    {
     "data": {
      "text/plain": [
       "<Figure size 1000x500 with 0 Axes>"
      ]
     },
     "metadata": {},
     "output_type": "display_data"
    },
    {
     "data": {
      "text/plain": [
       "<Figure size 1000x500 with 0 Axes>"
      ]
     },
     "metadata": {},
     "output_type": "display_data"
    },
    {
     "data": {
      "text/plain": [
       "<Figure size 1000x500 with 0 Axes>"
      ]
     },
     "metadata": {},
     "output_type": "display_data"
    },
    {
     "data": {
      "text/plain": [
       "<Figure size 1000x500 with 0 Axes>"
      ]
     },
     "metadata": {},
     "output_type": "display_data"
    },
    {
     "data": {
      "text/plain": [
       "<Figure size 1000x500 with 0 Axes>"
      ]
     },
     "metadata": {},
     "output_type": "display_data"
    },
    {
     "data": {
      "text/plain": [
       "<Figure size 1000x500 with 0 Axes>"
      ]
     },
     "metadata": {},
     "output_type": "display_data"
    },
    {
     "data": {
      "text/plain": [
       "<Figure size 1000x500 with 0 Axes>"
      ]
     },
     "metadata": {},
     "output_type": "display_data"
    },
    {
     "data": {
      "text/plain": [
       "<Figure size 1000x500 with 0 Axes>"
      ]
     },
     "metadata": {},
     "output_type": "display_data"
    },
    {
     "data": {
      "text/plain": [
       "<Figure size 1000x500 with 0 Axes>"
      ]
     },
     "metadata": {},
     "output_type": "display_data"
    },
    {
     "data": {
      "text/plain": [
       "<Figure size 1000x500 with 0 Axes>"
      ]
     },
     "metadata": {},
     "output_type": "display_data"
    },
    {
     "data": {
      "text/plain": [
       "<Figure size 1000x500 with 0 Axes>"
      ]
     },
     "metadata": {},
     "output_type": "display_data"
    },
    {
     "data": {
      "text/plain": [
       "<Figure size 1000x500 with 0 Axes>"
      ]
     },
     "metadata": {},
     "output_type": "display_data"
    },
    {
     "data": {
      "text/plain": [
       "<Figure size 1000x500 with 0 Axes>"
      ]
     },
     "metadata": {},
     "output_type": "display_data"
    },
    {
     "data": {
      "text/plain": [
       "<Figure size 1000x500 with 0 Axes>"
      ]
     },
     "metadata": {},
     "output_type": "display_data"
    },
    {
     "data": {
      "text/plain": [
       "<Figure size 1000x500 with 0 Axes>"
      ]
     },
     "metadata": {},
     "output_type": "display_data"
    },
    {
     "data": {
      "text/plain": [
       "<Figure size 1000x500 with 0 Axes>"
      ]
     },
     "metadata": {},
     "output_type": "display_data"
    },
    {
     "data": {
      "text/plain": [
       "<Figure size 1000x500 with 0 Axes>"
      ]
     },
     "metadata": {},
     "output_type": "display_data"
    },
    {
     "data": {
      "text/plain": [
       "<Figure size 1000x500 with 0 Axes>"
      ]
     },
     "metadata": {},
     "output_type": "display_data"
    },
    {
     "data": {
      "text/plain": [
       "<Figure size 1000x500 with 0 Axes>"
      ]
     },
     "metadata": {},
     "output_type": "display_data"
    },
    {
     "data": {
      "text/plain": [
       "<Figure size 1000x500 with 0 Axes>"
      ]
     },
     "metadata": {},
     "output_type": "display_data"
    },
    {
     "data": {
      "text/plain": [
       "<Figure size 1000x500 with 0 Axes>"
      ]
     },
     "metadata": {},
     "output_type": "display_data"
    },
    {
     "data": {
      "text/plain": [
       "<Figure size 1000x500 with 0 Axes>"
      ]
     },
     "metadata": {},
     "output_type": "display_data"
    },
    {
     "data": {
      "text/plain": [
       "<Figure size 1000x500 with 0 Axes>"
      ]
     },
     "metadata": {},
     "output_type": "display_data"
    },
    {
     "data": {
      "text/plain": [
       "<Figure size 1000x500 with 0 Axes>"
      ]
     },
     "metadata": {},
     "output_type": "display_data"
    },
    {
     "data": {
      "text/plain": [
       "<Figure size 1000x500 with 0 Axes>"
      ]
     },
     "metadata": {},
     "output_type": "display_data"
    },
    {
     "data": {
      "text/plain": [
       "<Figure size 1000x500 with 0 Axes>"
      ]
     },
     "metadata": {},
     "output_type": "display_data"
    },
    {
     "data": {
      "text/plain": [
       "<Figure size 1000x500 with 0 Axes>"
      ]
     },
     "metadata": {},
     "output_type": "display_data"
    },
    {
     "data": {
      "text/plain": [
       "<Figure size 1000x500 with 0 Axes>"
      ]
     },
     "metadata": {},
     "output_type": "display_data"
    },
    {
     "data": {
      "text/plain": [
       "<Figure size 1000x500 with 0 Axes>"
      ]
     },
     "metadata": {},
     "output_type": "display_data"
    },
    {
     "data": {
      "text/plain": [
       "<Figure size 1000x500 with 0 Axes>"
      ]
     },
     "metadata": {},
     "output_type": "display_data"
    },
    {
     "data": {
      "text/plain": [
       "<Figure size 1000x500 with 0 Axes>"
      ]
     },
     "metadata": {},
     "output_type": "display_data"
    },
    {
     "data": {
      "text/plain": [
       "<Figure size 1000x500 with 0 Axes>"
      ]
     },
     "metadata": {},
     "output_type": "display_data"
    },
    {
     "data": {
      "text/plain": [
       "<Figure size 1000x500 with 0 Axes>"
      ]
     },
     "metadata": {},
     "output_type": "display_data"
    },
    {
     "data": {
      "text/plain": [
       "<Figure size 1000x500 with 0 Axes>"
      ]
     },
     "metadata": {},
     "output_type": "display_data"
    },
    {
     "data": {
      "text/plain": [
       "<Figure size 1000x500 with 0 Axes>"
      ]
     },
     "metadata": {},
     "output_type": "display_data"
    },
    {
     "data": {
      "text/plain": [
       "<Figure size 1000x500 with 0 Axes>"
      ]
     },
     "metadata": {},
     "output_type": "display_data"
    },
    {
     "data": {
      "text/plain": [
       "<Figure size 1000x500 with 0 Axes>"
      ]
     },
     "metadata": {},
     "output_type": "display_data"
    },
    {
     "data": {
      "text/plain": [
       "<Figure size 1000x500 with 0 Axes>"
      ]
     },
     "metadata": {},
     "output_type": "display_data"
    },
    {
     "data": {
      "text/plain": [
       "<Figure size 1000x500 with 0 Axes>"
      ]
     },
     "metadata": {},
     "output_type": "display_data"
    },
    {
     "data": {
      "text/plain": [
       "<Figure size 1000x500 with 0 Axes>"
      ]
     },
     "metadata": {},
     "output_type": "display_data"
    },
    {
     "data": {
      "text/plain": [
       "<Figure size 1000x500 with 0 Axes>"
      ]
     },
     "metadata": {},
     "output_type": "display_data"
    },
    {
     "data": {
      "text/plain": [
       "<Figure size 1000x500 with 0 Axes>"
      ]
     },
     "metadata": {},
     "output_type": "display_data"
    },
    {
     "data": {
      "text/plain": [
       "<Figure size 1000x500 with 0 Axes>"
      ]
     },
     "metadata": {},
     "output_type": "display_data"
    },
    {
     "data": {
      "text/plain": [
       "<Figure size 1000x500 with 0 Axes>"
      ]
     },
     "metadata": {},
     "output_type": "display_data"
    },
    {
     "data": {
      "text/plain": [
       "<Figure size 1000x500 with 0 Axes>"
      ]
     },
     "metadata": {},
     "output_type": "display_data"
    },
    {
     "data": {
      "text/plain": [
       "<Figure size 1000x500 with 0 Axes>"
      ]
     },
     "metadata": {},
     "output_type": "display_data"
    },
    {
     "data": {
      "text/plain": [
       "<Figure size 1000x500 with 0 Axes>"
      ]
     },
     "metadata": {},
     "output_type": "display_data"
    },
    {
     "data": {
      "text/plain": [
       "<Figure size 1000x500 with 0 Axes>"
      ]
     },
     "metadata": {},
     "output_type": "display_data"
    },
    {
     "data": {
      "text/plain": [
       "<Figure size 1000x500 with 0 Axes>"
      ]
     },
     "metadata": {},
     "output_type": "display_data"
    },
    {
     "data": {
      "text/plain": [
       "<Figure size 1000x500 with 0 Axes>"
      ]
     },
     "metadata": {},
     "output_type": "display_data"
    },
    {
     "data": {
      "text/plain": [
       "<Figure size 1000x500 with 0 Axes>"
      ]
     },
     "metadata": {},
     "output_type": "display_data"
    },
    {
     "data": {
      "text/plain": [
       "<Figure size 1000x500 with 0 Axes>"
      ]
     },
     "metadata": {},
     "output_type": "display_data"
    },
    {
     "data": {
      "text/plain": [
       "<Figure size 1000x500 with 0 Axes>"
      ]
     },
     "metadata": {},
     "output_type": "display_data"
    },
    {
     "data": {
      "text/plain": [
       "<Figure size 1000x500 with 0 Axes>"
      ]
     },
     "metadata": {},
     "output_type": "display_data"
    },
    {
     "data": {
      "text/plain": [
       "<Figure size 1000x500 with 0 Axes>"
      ]
     },
     "metadata": {},
     "output_type": "display_data"
    },
    {
     "data": {
      "text/plain": [
       "<Figure size 1000x500 with 0 Axes>"
      ]
     },
     "metadata": {},
     "output_type": "display_data"
    },
    {
     "data": {
      "text/plain": [
       "<Figure size 1000x500 with 0 Axes>"
      ]
     },
     "metadata": {},
     "output_type": "display_data"
    },
    {
     "data": {
      "text/plain": [
       "<Figure size 1000x500 with 0 Axes>"
      ]
     },
     "metadata": {},
     "output_type": "display_data"
    },
    {
     "data": {
      "text/plain": [
       "<Figure size 1000x500 with 0 Axes>"
      ]
     },
     "metadata": {},
     "output_type": "display_data"
    },
    {
     "data": {
      "text/plain": [
       "<Figure size 1000x500 with 0 Axes>"
      ]
     },
     "metadata": {},
     "output_type": "display_data"
    },
    {
     "data": {
      "text/plain": [
       "<Figure size 1000x500 with 0 Axes>"
      ]
     },
     "metadata": {},
     "output_type": "display_data"
    },
    {
     "data": {
      "text/plain": [
       "<Figure size 1000x500 with 0 Axes>"
      ]
     },
     "metadata": {},
     "output_type": "display_data"
    },
    {
     "data": {
      "text/plain": [
       "<Figure size 1000x500 with 0 Axes>"
      ]
     },
     "metadata": {},
     "output_type": "display_data"
    },
    {
     "data": {
      "text/plain": [
       "<Figure size 1000x500 with 0 Axes>"
      ]
     },
     "metadata": {},
     "output_type": "display_data"
    },
    {
     "data": {
      "text/plain": [
       "<Figure size 1000x500 with 0 Axes>"
      ]
     },
     "metadata": {},
     "output_type": "display_data"
    },
    {
     "data": {
      "text/plain": [
       "<Figure size 1000x500 with 0 Axes>"
      ]
     },
     "metadata": {},
     "output_type": "display_data"
    },
    {
     "data": {
      "text/plain": [
       "<Figure size 1000x500 with 0 Axes>"
      ]
     },
     "metadata": {},
     "output_type": "display_data"
    },
    {
     "data": {
      "text/plain": [
       "<Figure size 1000x500 with 0 Axes>"
      ]
     },
     "metadata": {},
     "output_type": "display_data"
    },
    {
     "data": {
      "text/plain": [
       "<Figure size 1000x500 with 0 Axes>"
      ]
     },
     "metadata": {},
     "output_type": "display_data"
    },
    {
     "data": {
      "text/plain": [
       "<Figure size 1000x500 with 0 Axes>"
      ]
     },
     "metadata": {},
     "output_type": "display_data"
    },
    {
     "data": {
      "text/plain": [
       "<Figure size 1000x500 with 0 Axes>"
      ]
     },
     "metadata": {},
     "output_type": "display_data"
    },
    {
     "data": {
      "text/plain": [
       "<Figure size 1000x500 with 0 Axes>"
      ]
     },
     "metadata": {},
     "output_type": "display_data"
    },
    {
     "data": {
      "text/plain": [
       "<Figure size 1000x500 with 0 Axes>"
      ]
     },
     "metadata": {},
     "output_type": "display_data"
    },
    {
     "data": {
      "text/plain": [
       "<Figure size 1000x500 with 0 Axes>"
      ]
     },
     "metadata": {},
     "output_type": "display_data"
    },
    {
     "data": {
      "text/plain": [
       "<Figure size 1000x500 with 0 Axes>"
      ]
     },
     "metadata": {},
     "output_type": "display_data"
    },
    {
     "data": {
      "text/plain": [
       "<Figure size 1000x500 with 0 Axes>"
      ]
     },
     "metadata": {},
     "output_type": "display_data"
    },
    {
     "data": {
      "text/plain": [
       "<Figure size 1000x500 with 0 Axes>"
      ]
     },
     "metadata": {},
     "output_type": "display_data"
    },
    {
     "data": {
      "text/plain": [
       "<Figure size 1000x500 with 0 Axes>"
      ]
     },
     "metadata": {},
     "output_type": "display_data"
    },
    {
     "data": {
      "text/plain": [
       "<Figure size 1000x500 with 0 Axes>"
      ]
     },
     "metadata": {},
     "output_type": "display_data"
    },
    {
     "data": {
      "text/plain": [
       "<Figure size 1000x500 with 0 Axes>"
      ]
     },
     "metadata": {},
     "output_type": "display_data"
    },
    {
     "data": {
      "text/plain": [
       "<Figure size 1000x500 with 0 Axes>"
      ]
     },
     "metadata": {},
     "output_type": "display_data"
    },
    {
     "data": {
      "text/plain": [
       "<Figure size 1000x500 with 0 Axes>"
      ]
     },
     "metadata": {},
     "output_type": "display_data"
    },
    {
     "data": {
      "text/plain": [
       "<Figure size 1000x500 with 0 Axes>"
      ]
     },
     "metadata": {},
     "output_type": "display_data"
    },
    {
     "data": {
      "text/plain": [
       "<Figure size 1000x500 with 0 Axes>"
      ]
     },
     "metadata": {},
     "output_type": "display_data"
    },
    {
     "data": {
      "text/plain": [
       "<Figure size 1000x500 with 0 Axes>"
      ]
     },
     "metadata": {},
     "output_type": "display_data"
    },
    {
     "data": {
      "text/plain": [
       "<Figure size 1000x500 with 0 Axes>"
      ]
     },
     "metadata": {},
     "output_type": "display_data"
    },
    {
     "data": {
      "text/plain": [
       "<Figure size 1000x500 with 0 Axes>"
      ]
     },
     "metadata": {},
     "output_type": "display_data"
    },
    {
     "data": {
      "text/plain": [
       "<Figure size 1000x500 with 0 Axes>"
      ]
     },
     "metadata": {},
     "output_type": "display_data"
    },
    {
     "data": {
      "text/plain": [
       "<Figure size 1000x500 with 0 Axes>"
      ]
     },
     "metadata": {},
     "output_type": "display_data"
    },
    {
     "data": {
      "text/plain": [
       "<Figure size 1000x500 with 0 Axes>"
      ]
     },
     "metadata": {},
     "output_type": "display_data"
    },
    {
     "data": {
      "text/plain": [
       "<Figure size 1000x500 with 0 Axes>"
      ]
     },
     "metadata": {},
     "output_type": "display_data"
    },
    {
     "data": {
      "text/plain": [
       "<Figure size 1000x500 with 0 Axes>"
      ]
     },
     "metadata": {},
     "output_type": "display_data"
    },
    {
     "data": {
      "text/plain": [
       "<Figure size 1000x500 with 0 Axes>"
      ]
     },
     "metadata": {},
     "output_type": "display_data"
    },
    {
     "data": {
      "text/plain": [
       "<Figure size 1000x500 with 0 Axes>"
      ]
     },
     "metadata": {},
     "output_type": "display_data"
    },
    {
     "data": {
      "text/plain": [
       "<Figure size 1000x500 with 0 Axes>"
      ]
     },
     "metadata": {},
     "output_type": "display_data"
    },
    {
     "data": {
      "text/plain": [
       "<Figure size 1000x500 with 0 Axes>"
      ]
     },
     "metadata": {},
     "output_type": "display_data"
    },
    {
     "data": {
      "text/plain": [
       "<Figure size 1000x500 with 0 Axes>"
      ]
     },
     "metadata": {},
     "output_type": "display_data"
    },
    {
     "data": {
      "text/plain": [
       "<Figure size 1000x500 with 0 Axes>"
      ]
     },
     "metadata": {},
     "output_type": "display_data"
    },
    {
     "data": {
      "text/plain": [
       "<Figure size 1000x500 with 0 Axes>"
      ]
     },
     "metadata": {},
     "output_type": "display_data"
    },
    {
     "data": {
      "text/plain": [
       "<Figure size 1000x500 with 0 Axes>"
      ]
     },
     "metadata": {},
     "output_type": "display_data"
    },
    {
     "data": {
      "text/plain": [
       "<Figure size 1000x500 with 0 Axes>"
      ]
     },
     "metadata": {},
     "output_type": "display_data"
    },
    {
     "data": {
      "text/plain": [
       "<Figure size 1000x500 with 0 Axes>"
      ]
     },
     "metadata": {},
     "output_type": "display_data"
    },
    {
     "data": {
      "text/plain": [
       "<Figure size 1000x500 with 0 Axes>"
      ]
     },
     "metadata": {},
     "output_type": "display_data"
    },
    {
     "data": {
      "text/plain": [
       "<Figure size 1000x500 with 0 Axes>"
      ]
     },
     "metadata": {},
     "output_type": "display_data"
    },
    {
     "data": {
      "text/plain": [
       "<Figure size 1000x500 with 0 Axes>"
      ]
     },
     "metadata": {},
     "output_type": "display_data"
    },
    {
     "data": {
      "text/plain": [
       "<Figure size 1000x500 with 0 Axes>"
      ]
     },
     "metadata": {},
     "output_type": "display_data"
    },
    {
     "data": {
      "text/plain": [
       "<Figure size 1000x500 with 0 Axes>"
      ]
     },
     "metadata": {},
     "output_type": "display_data"
    },
    {
     "data": {
      "text/plain": [
       "<Figure size 1000x500 with 0 Axes>"
      ]
     },
     "metadata": {},
     "output_type": "display_data"
    },
    {
     "data": {
      "text/plain": [
       "<Figure size 1000x500 with 0 Axes>"
      ]
     },
     "metadata": {},
     "output_type": "display_data"
    },
    {
     "data": {
      "text/plain": [
       "<Figure size 1000x500 with 0 Axes>"
      ]
     },
     "metadata": {},
     "output_type": "display_data"
    },
    {
     "data": {
      "text/plain": [
       "<Figure size 1000x500 with 0 Axes>"
      ]
     },
     "metadata": {},
     "output_type": "display_data"
    },
    {
     "data": {
      "text/plain": [
       "<Figure size 1000x500 with 0 Axes>"
      ]
     },
     "metadata": {},
     "output_type": "display_data"
    },
    {
     "data": {
      "text/plain": [
       "<Figure size 1000x500 with 0 Axes>"
      ]
     },
     "metadata": {},
     "output_type": "display_data"
    },
    {
     "data": {
      "text/plain": [
       "<Figure size 1000x500 with 0 Axes>"
      ]
     },
     "metadata": {},
     "output_type": "display_data"
    },
    {
     "data": {
      "text/plain": [
       "<Figure size 1000x500 with 0 Axes>"
      ]
     },
     "metadata": {},
     "output_type": "display_data"
    },
    {
     "data": {
      "text/plain": [
       "<Figure size 1000x500 with 0 Axes>"
      ]
     },
     "metadata": {},
     "output_type": "display_data"
    },
    {
     "data": {
      "text/plain": [
       "<Figure size 1000x500 with 0 Axes>"
      ]
     },
     "metadata": {},
     "output_type": "display_data"
    },
    {
     "data": {
      "text/plain": [
       "<Figure size 1000x500 with 0 Axes>"
      ]
     },
     "metadata": {},
     "output_type": "display_data"
    },
    {
     "data": {
      "text/plain": [
       "<Figure size 1000x500 with 0 Axes>"
      ]
     },
     "metadata": {},
     "output_type": "display_data"
    },
    {
     "data": {
      "text/plain": [
       "<Figure size 1000x500 with 0 Axes>"
      ]
     },
     "metadata": {},
     "output_type": "display_data"
    },
    {
     "data": {
      "text/plain": [
       "<Figure size 1000x500 with 0 Axes>"
      ]
     },
     "metadata": {},
     "output_type": "display_data"
    },
    {
     "data": {
      "text/plain": [
       "<Figure size 1000x500 with 0 Axes>"
      ]
     },
     "metadata": {},
     "output_type": "display_data"
    },
    {
     "data": {
      "text/plain": [
       "<Figure size 1000x500 with 0 Axes>"
      ]
     },
     "metadata": {},
     "output_type": "display_data"
    },
    {
     "data": {
      "text/plain": [
       "<Figure size 1000x500 with 0 Axes>"
      ]
     },
     "metadata": {},
     "output_type": "display_data"
    },
    {
     "data": {
      "text/plain": [
       "<Figure size 1000x500 with 0 Axes>"
      ]
     },
     "metadata": {},
     "output_type": "display_data"
    },
    {
     "data": {
      "text/plain": [
       "<Figure size 1000x500 with 0 Axes>"
      ]
     },
     "metadata": {},
     "output_type": "display_data"
    },
    {
     "data": {
      "text/plain": [
       "<Figure size 1000x500 with 0 Axes>"
      ]
     },
     "metadata": {},
     "output_type": "display_data"
    },
    {
     "data": {
      "text/plain": [
       "<Figure size 1000x500 with 0 Axes>"
      ]
     },
     "metadata": {},
     "output_type": "display_data"
    },
    {
     "data": {
      "text/plain": [
       "<Figure size 1000x500 with 0 Axes>"
      ]
     },
     "metadata": {},
     "output_type": "display_data"
    },
    {
     "data": {
      "text/plain": [
       "<Figure size 1000x500 with 0 Axes>"
      ]
     },
     "metadata": {},
     "output_type": "display_data"
    },
    {
     "data": {
      "text/plain": [
       "<Figure size 1000x500 with 0 Axes>"
      ]
     },
     "metadata": {},
     "output_type": "display_data"
    },
    {
     "data": {
      "text/plain": [
       "<Figure size 1000x500 with 0 Axes>"
      ]
     },
     "metadata": {},
     "output_type": "display_data"
    },
    {
     "data": {
      "text/plain": [
       "<Figure size 1000x500 with 0 Axes>"
      ]
     },
     "metadata": {},
     "output_type": "display_data"
    },
    {
     "data": {
      "text/plain": [
       "<Figure size 1000x500 with 0 Axes>"
      ]
     },
     "metadata": {},
     "output_type": "display_data"
    },
    {
     "data": {
      "text/plain": [
       "<Figure size 1000x500 with 0 Axes>"
      ]
     },
     "metadata": {},
     "output_type": "display_data"
    },
    {
     "data": {
      "text/plain": [
       "<Figure size 1000x500 with 0 Axes>"
      ]
     },
     "metadata": {},
     "output_type": "display_data"
    },
    {
     "data": {
      "text/plain": [
       "<Figure size 1000x500 with 0 Axes>"
      ]
     },
     "metadata": {},
     "output_type": "display_data"
    },
    {
     "data": {
      "text/plain": [
       "<Figure size 1000x500 with 0 Axes>"
      ]
     },
     "metadata": {},
     "output_type": "display_data"
    },
    {
     "data": {
      "text/plain": [
       "<Figure size 1000x500 with 0 Axes>"
      ]
     },
     "metadata": {},
     "output_type": "display_data"
    },
    {
     "data": {
      "text/plain": [
       "<Figure size 1000x500 with 0 Axes>"
      ]
     },
     "metadata": {},
     "output_type": "display_data"
    },
    {
     "data": {
      "text/plain": [
       "<Figure size 1000x500 with 0 Axes>"
      ]
     },
     "metadata": {},
     "output_type": "display_data"
    },
    {
     "data": {
      "text/plain": [
       "<Figure size 1000x500 with 0 Axes>"
      ]
     },
     "metadata": {},
     "output_type": "display_data"
    },
    {
     "data": {
      "text/plain": [
       "<Figure size 1000x500 with 0 Axes>"
      ]
     },
     "metadata": {},
     "output_type": "display_data"
    },
    {
     "data": {
      "text/plain": [
       "<Figure size 1000x500 with 0 Axes>"
      ]
     },
     "metadata": {},
     "output_type": "display_data"
    },
    {
     "data": {
      "text/plain": [
       "<Figure size 1000x500 with 0 Axes>"
      ]
     },
     "metadata": {},
     "output_type": "display_data"
    },
    {
     "data": {
      "text/plain": [
       "<Figure size 1000x500 with 0 Axes>"
      ]
     },
     "metadata": {},
     "output_type": "display_data"
    },
    {
     "data": {
      "text/plain": [
       "<Figure size 1000x500 with 0 Axes>"
      ]
     },
     "metadata": {},
     "output_type": "display_data"
    },
    {
     "data": {
      "text/plain": [
       "<Figure size 1000x500 with 0 Axes>"
      ]
     },
     "metadata": {},
     "output_type": "display_data"
    },
    {
     "data": {
      "text/plain": [
       "<Figure size 1000x500 with 0 Axes>"
      ]
     },
     "metadata": {},
     "output_type": "display_data"
    },
    {
     "data": {
      "text/plain": [
       "<Figure size 1000x500 with 0 Axes>"
      ]
     },
     "metadata": {},
     "output_type": "display_data"
    },
    {
     "data": {
      "text/plain": [
       "<Figure size 1000x500 with 0 Axes>"
      ]
     },
     "metadata": {},
     "output_type": "display_data"
    },
    {
     "data": {
      "text/plain": [
       "<Figure size 1000x500 with 0 Axes>"
      ]
     },
     "metadata": {},
     "output_type": "display_data"
    },
    {
     "data": {
      "text/plain": [
       "<Figure size 1000x500 with 0 Axes>"
      ]
     },
     "metadata": {},
     "output_type": "display_data"
    },
    {
     "data": {
      "text/plain": [
       "<Figure size 1000x500 with 0 Axes>"
      ]
     },
     "metadata": {},
     "output_type": "display_data"
    },
    {
     "data": {
      "text/plain": [
       "<Figure size 1000x500 with 0 Axes>"
      ]
     },
     "metadata": {},
     "output_type": "display_data"
    },
    {
     "data": {
      "text/plain": [
       "<Figure size 1000x500 with 0 Axes>"
      ]
     },
     "metadata": {},
     "output_type": "display_data"
    },
    {
     "data": {
      "text/plain": [
       "<Figure size 1000x500 with 0 Axes>"
      ]
     },
     "metadata": {},
     "output_type": "display_data"
    },
    {
     "data": {
      "text/plain": [
       "<Figure size 1000x500 with 0 Axes>"
      ]
     },
     "metadata": {},
     "output_type": "display_data"
    },
    {
     "data": {
      "text/plain": [
       "<Figure size 1000x500 with 0 Axes>"
      ]
     },
     "metadata": {},
     "output_type": "display_data"
    },
    {
     "data": {
      "text/plain": [
       "<Figure size 1000x500 with 0 Axes>"
      ]
     },
     "metadata": {},
     "output_type": "display_data"
    },
    {
     "data": {
      "text/plain": [
       "<Figure size 1000x500 with 0 Axes>"
      ]
     },
     "metadata": {},
     "output_type": "display_data"
    },
    {
     "data": {
      "text/plain": [
       "<Figure size 1000x500 with 0 Axes>"
      ]
     },
     "metadata": {},
     "output_type": "display_data"
    },
    {
     "data": {
      "text/plain": [
       "<Figure size 1000x500 with 0 Axes>"
      ]
     },
     "metadata": {},
     "output_type": "display_data"
    },
    {
     "data": {
      "text/plain": [
       "<Figure size 1000x500 with 0 Axes>"
      ]
     },
     "metadata": {},
     "output_type": "display_data"
    },
    {
     "data": {
      "text/plain": [
       "<Figure size 1000x500 with 0 Axes>"
      ]
     },
     "metadata": {},
     "output_type": "display_data"
    },
    {
     "data": {
      "text/plain": [
       "<Figure size 1000x500 with 0 Axes>"
      ]
     },
     "metadata": {},
     "output_type": "display_data"
    },
    {
     "data": {
      "text/plain": [
       "<Figure size 1000x500 with 0 Axes>"
      ]
     },
     "metadata": {},
     "output_type": "display_data"
    },
    {
     "data": {
      "text/plain": [
       "<Figure size 1000x500 with 0 Axes>"
      ]
     },
     "metadata": {},
     "output_type": "display_data"
    },
    {
     "data": {
      "text/plain": [
       "<Figure size 1000x500 with 0 Axes>"
      ]
     },
     "metadata": {},
     "output_type": "display_data"
    },
    {
     "data": {
      "text/plain": [
       "<Figure size 1000x500 with 0 Axes>"
      ]
     },
     "metadata": {},
     "output_type": "display_data"
    },
    {
     "data": {
      "text/plain": [
       "<Figure size 1000x500 with 0 Axes>"
      ]
     },
     "metadata": {},
     "output_type": "display_data"
    },
    {
     "data": {
      "text/plain": [
       "<Figure size 1000x500 with 0 Axes>"
      ]
     },
     "metadata": {},
     "output_type": "display_data"
    },
    {
     "data": {
      "text/plain": [
       "<Figure size 1000x500 with 0 Axes>"
      ]
     },
     "metadata": {},
     "output_type": "display_data"
    },
    {
     "data": {
      "text/plain": [
       "<Figure size 1000x500 with 0 Axes>"
      ]
     },
     "metadata": {},
     "output_type": "display_data"
    },
    {
     "data": {
      "text/plain": [
       "<Figure size 1000x500 with 0 Axes>"
      ]
     },
     "metadata": {},
     "output_type": "display_data"
    },
    {
     "data": {
      "text/plain": [
       "<Figure size 1000x500 with 0 Axes>"
      ]
     },
     "metadata": {},
     "output_type": "display_data"
    },
    {
     "data": {
      "text/plain": [
       "<Figure size 1000x500 with 0 Axes>"
      ]
     },
     "metadata": {},
     "output_type": "display_data"
    },
    {
     "data": {
      "text/plain": [
       "<Figure size 1000x500 with 0 Axes>"
      ]
     },
     "metadata": {},
     "output_type": "display_data"
    },
    {
     "data": {
      "text/plain": [
       "<Figure size 1000x500 with 0 Axes>"
      ]
     },
     "metadata": {},
     "output_type": "display_data"
    },
    {
     "data": {
      "text/plain": [
       "<Figure size 1000x500 with 0 Axes>"
      ]
     },
     "metadata": {},
     "output_type": "display_data"
    },
    {
     "data": {
      "text/plain": [
       "<Figure size 1000x500 with 0 Axes>"
      ]
     },
     "metadata": {},
     "output_type": "display_data"
    },
    {
     "data": {
      "text/plain": [
       "<Figure size 1000x500 with 0 Axes>"
      ]
     },
     "metadata": {},
     "output_type": "display_data"
    },
    {
     "data": {
      "text/plain": [
       "<Figure size 1000x500 with 0 Axes>"
      ]
     },
     "metadata": {},
     "output_type": "display_data"
    },
    {
     "data": {
      "text/plain": [
       "<Figure size 1000x500 with 0 Axes>"
      ]
     },
     "metadata": {},
     "output_type": "display_data"
    },
    {
     "data": {
      "text/plain": [
       "<Figure size 1000x500 with 0 Axes>"
      ]
     },
     "metadata": {},
     "output_type": "display_data"
    },
    {
     "data": {
      "text/plain": [
       "<Figure size 1000x500 with 0 Axes>"
      ]
     },
     "metadata": {},
     "output_type": "display_data"
    },
    {
     "data": {
      "text/plain": [
       "<Figure size 1000x500 with 0 Axes>"
      ]
     },
     "metadata": {},
     "output_type": "display_data"
    },
    {
     "data": {
      "text/plain": [
       "<Figure size 1000x500 with 0 Axes>"
      ]
     },
     "metadata": {},
     "output_type": "display_data"
    },
    {
     "data": {
      "text/plain": [
       "<Figure size 1000x500 with 0 Axes>"
      ]
     },
     "metadata": {},
     "output_type": "display_data"
    },
    {
     "data": {
      "text/plain": [
       "<Figure size 1000x500 with 0 Axes>"
      ]
     },
     "metadata": {},
     "output_type": "display_data"
    },
    {
     "data": {
      "text/plain": [
       "<Figure size 1000x500 with 0 Axes>"
      ]
     },
     "metadata": {},
     "output_type": "display_data"
    },
    {
     "data": {
      "text/plain": [
       "<Figure size 1000x500 with 0 Axes>"
      ]
     },
     "metadata": {},
     "output_type": "display_data"
    },
    {
     "data": {
      "text/plain": [
       "<Figure size 1000x500 with 0 Axes>"
      ]
     },
     "metadata": {},
     "output_type": "display_data"
    },
    {
     "data": {
      "text/plain": [
       "<Figure size 1000x500 with 0 Axes>"
      ]
     },
     "metadata": {},
     "output_type": "display_data"
    },
    {
     "data": {
      "text/plain": [
       "<Figure size 1000x500 with 0 Axes>"
      ]
     },
     "metadata": {},
     "output_type": "display_data"
    },
    {
     "data": {
      "text/plain": [
       "<Figure size 1000x500 with 0 Axes>"
      ]
     },
     "metadata": {},
     "output_type": "display_data"
    },
    {
     "data": {
      "text/plain": [
       "<Figure size 1000x500 with 0 Axes>"
      ]
     },
     "metadata": {},
     "output_type": "display_data"
    },
    {
     "data": {
      "text/plain": [
       "<Figure size 1000x500 with 0 Axes>"
      ]
     },
     "metadata": {},
     "output_type": "display_data"
    },
    {
     "data": {
      "text/plain": [
       "<Figure size 1000x500 with 0 Axes>"
      ]
     },
     "metadata": {},
     "output_type": "display_data"
    },
    {
     "data": {
      "text/plain": [
       "<Figure size 1000x500 with 0 Axes>"
      ]
     },
     "metadata": {},
     "output_type": "display_data"
    },
    {
     "data": {
      "text/plain": [
       "<Figure size 1000x500 with 0 Axes>"
      ]
     },
     "metadata": {},
     "output_type": "display_data"
    },
    {
     "data": {
      "text/plain": [
       "<Figure size 1000x500 with 0 Axes>"
      ]
     },
     "metadata": {},
     "output_type": "display_data"
    },
    {
     "data": {
      "text/plain": [
       "<Figure size 1000x500 with 0 Axes>"
      ]
     },
     "metadata": {},
     "output_type": "display_data"
    },
    {
     "data": {
      "text/plain": [
       "<Figure size 1000x500 with 0 Axes>"
      ]
     },
     "metadata": {},
     "output_type": "display_data"
    },
    {
     "data": {
      "text/plain": [
       "<Figure size 1000x500 with 0 Axes>"
      ]
     },
     "metadata": {},
     "output_type": "display_data"
    },
    {
     "data": {
      "text/plain": [
       "<Figure size 1000x500 with 0 Axes>"
      ]
     },
     "metadata": {},
     "output_type": "display_data"
    },
    {
     "data": {
      "text/plain": [
       "<Figure size 1000x500 with 0 Axes>"
      ]
     },
     "metadata": {},
     "output_type": "display_data"
    },
    {
     "data": {
      "text/plain": [
       "<Figure size 1000x500 with 0 Axes>"
      ]
     },
     "metadata": {},
     "output_type": "display_data"
    },
    {
     "data": {
      "text/plain": [
       "<Figure size 1000x500 with 0 Axes>"
      ]
     },
     "metadata": {},
     "output_type": "display_data"
    },
    {
     "data": {
      "text/plain": [
       "<Figure size 1000x500 with 0 Axes>"
      ]
     },
     "metadata": {},
     "output_type": "display_data"
    },
    {
     "data": {
      "text/plain": [
       "<Figure size 1000x500 with 0 Axes>"
      ]
     },
     "metadata": {},
     "output_type": "display_data"
    },
    {
     "data": {
      "text/plain": [
       "<Figure size 1000x500 with 0 Axes>"
      ]
     },
     "metadata": {},
     "output_type": "display_data"
    },
    {
     "data": {
      "text/plain": [
       "<Figure size 1000x500 with 0 Axes>"
      ]
     },
     "metadata": {},
     "output_type": "display_data"
    },
    {
     "data": {
      "text/plain": [
       "<Figure size 1000x500 with 0 Axes>"
      ]
     },
     "metadata": {},
     "output_type": "display_data"
    },
    {
     "data": {
      "text/plain": [
       "<Figure size 1000x500 with 0 Axes>"
      ]
     },
     "metadata": {},
     "output_type": "display_data"
    },
    {
     "data": {
      "text/plain": [
       "<Figure size 1000x500 with 0 Axes>"
      ]
     },
     "metadata": {},
     "output_type": "display_data"
    },
    {
     "data": {
      "text/plain": [
       "<Figure size 1000x500 with 0 Axes>"
      ]
     },
     "metadata": {},
     "output_type": "display_data"
    },
    {
     "data": {
      "text/plain": [
       "<Figure size 1000x500 with 0 Axes>"
      ]
     },
     "metadata": {},
     "output_type": "display_data"
    },
    {
     "data": {
      "text/plain": [
       "<Figure size 1000x500 with 0 Axes>"
      ]
     },
     "metadata": {},
     "output_type": "display_data"
    },
    {
     "data": {
      "text/plain": [
       "<Figure size 1000x500 with 0 Axes>"
      ]
     },
     "metadata": {},
     "output_type": "display_data"
    },
    {
     "data": {
      "text/plain": [
       "<Figure size 1000x500 with 0 Axes>"
      ]
     },
     "metadata": {},
     "output_type": "display_data"
    },
    {
     "data": {
      "text/plain": [
       "<Figure size 1000x500 with 0 Axes>"
      ]
     },
     "metadata": {},
     "output_type": "display_data"
    },
    {
     "data": {
      "text/plain": [
       "<Figure size 1000x500 with 0 Axes>"
      ]
     },
     "metadata": {},
     "output_type": "display_data"
    },
    {
     "data": {
      "text/plain": [
       "<Figure size 1000x500 with 0 Axes>"
      ]
     },
     "metadata": {},
     "output_type": "display_data"
    },
    {
     "data": {
      "text/plain": [
       "<Figure size 1000x500 with 0 Axes>"
      ]
     },
     "metadata": {},
     "output_type": "display_data"
    },
    {
     "data": {
      "text/plain": [
       "<Figure size 1000x500 with 0 Axes>"
      ]
     },
     "metadata": {},
     "output_type": "display_data"
    },
    {
     "data": {
      "text/plain": [
       "<Figure size 1000x500 with 0 Axes>"
      ]
     },
     "metadata": {},
     "output_type": "display_data"
    },
    {
     "data": {
      "text/plain": [
       "<Figure size 1000x500 with 0 Axes>"
      ]
     },
     "metadata": {},
     "output_type": "display_data"
    },
    {
     "data": {
      "text/plain": [
       "<Figure size 1000x500 with 0 Axes>"
      ]
     },
     "metadata": {},
     "output_type": "display_data"
    },
    {
     "data": {
      "text/plain": [
       "<Figure size 1000x500 with 0 Axes>"
      ]
     },
     "metadata": {},
     "output_type": "display_data"
    },
    {
     "data": {
      "text/plain": [
       "<Figure size 1000x500 with 0 Axes>"
      ]
     },
     "metadata": {},
     "output_type": "display_data"
    },
    {
     "data": {
      "text/plain": [
       "<Figure size 1000x500 with 0 Axes>"
      ]
     },
     "metadata": {},
     "output_type": "display_data"
    },
    {
     "data": {
      "text/plain": [
       "<Figure size 1000x500 with 0 Axes>"
      ]
     },
     "metadata": {},
     "output_type": "display_data"
    },
    {
     "data": {
      "text/plain": [
       "<Figure size 1000x500 with 0 Axes>"
      ]
     },
     "metadata": {},
     "output_type": "display_data"
    },
    {
     "data": {
      "text/plain": [
       "<Figure size 1000x500 with 0 Axes>"
      ]
     },
     "metadata": {},
     "output_type": "display_data"
    },
    {
     "data": {
      "text/plain": [
       "<Figure size 1000x500 with 0 Axes>"
      ]
     },
     "metadata": {},
     "output_type": "display_data"
    },
    {
     "data": {
      "text/plain": [
       "<Figure size 1000x500 with 0 Axes>"
      ]
     },
     "metadata": {},
     "output_type": "display_data"
    },
    {
     "data": {
      "text/plain": [
       "<Figure size 1000x500 with 0 Axes>"
      ]
     },
     "metadata": {},
     "output_type": "display_data"
    },
    {
     "data": {
      "text/plain": [
       "<Figure size 1000x500 with 0 Axes>"
      ]
     },
     "metadata": {},
     "output_type": "display_data"
    },
    {
     "data": {
      "text/plain": [
       "<Figure size 1000x500 with 0 Axes>"
      ]
     },
     "metadata": {},
     "output_type": "display_data"
    },
    {
     "data": {
      "text/plain": [
       "<Figure size 1000x500 with 0 Axes>"
      ]
     },
     "metadata": {},
     "output_type": "display_data"
    },
    {
     "data": {
      "text/plain": [
       "<Figure size 1000x500 with 0 Axes>"
      ]
     },
     "metadata": {},
     "output_type": "display_data"
    },
    {
     "data": {
      "text/plain": [
       "<Figure size 1000x500 with 0 Axes>"
      ]
     },
     "metadata": {},
     "output_type": "display_data"
    },
    {
     "data": {
      "text/plain": [
       "<Figure size 1000x500 with 0 Axes>"
      ]
     },
     "metadata": {},
     "output_type": "display_data"
    },
    {
     "data": {
      "text/plain": [
       "<Figure size 1000x500 with 0 Axes>"
      ]
     },
     "metadata": {},
     "output_type": "display_data"
    },
    {
     "data": {
      "text/plain": [
       "<Figure size 1000x500 with 0 Axes>"
      ]
     },
     "metadata": {},
     "output_type": "display_data"
    },
    {
     "data": {
      "text/plain": [
       "<Figure size 1000x500 with 0 Axes>"
      ]
     },
     "metadata": {},
     "output_type": "display_data"
    },
    {
     "data": {
      "text/plain": [
       "<Figure size 1000x500 with 0 Axes>"
      ]
     },
     "metadata": {},
     "output_type": "display_data"
    },
    {
     "data": {
      "text/plain": [
       "<Figure size 1000x500 with 0 Axes>"
      ]
     },
     "metadata": {},
     "output_type": "display_data"
    },
    {
     "data": {
      "text/plain": [
       "<Figure size 1000x500 with 0 Axes>"
      ]
     },
     "metadata": {},
     "output_type": "display_data"
    },
    {
     "data": {
      "text/plain": [
       "<Figure size 1000x500 with 0 Axes>"
      ]
     },
     "metadata": {},
     "output_type": "display_data"
    },
    {
     "data": {
      "text/plain": [
       "<Figure size 1000x500 with 0 Axes>"
      ]
     },
     "metadata": {},
     "output_type": "display_data"
    },
    {
     "data": {
      "text/plain": [
       "<Figure size 1000x500 with 0 Axes>"
      ]
     },
     "metadata": {},
     "output_type": "display_data"
    },
    {
     "data": {
      "text/plain": [
       "<Figure size 1000x500 with 0 Axes>"
      ]
     },
     "metadata": {},
     "output_type": "display_data"
    },
    {
     "data": {
      "text/plain": [
       "<Figure size 1000x500 with 0 Axes>"
      ]
     },
     "metadata": {},
     "output_type": "display_data"
    },
    {
     "data": {
      "text/plain": [
       "<Figure size 1000x500 with 0 Axes>"
      ]
     },
     "metadata": {},
     "output_type": "display_data"
    },
    {
     "data": {
      "text/plain": [
       "<Figure size 1000x500 with 0 Axes>"
      ]
     },
     "metadata": {},
     "output_type": "display_data"
    },
    {
     "data": {
      "text/plain": [
       "<Figure size 1000x500 with 0 Axes>"
      ]
     },
     "metadata": {},
     "output_type": "display_data"
    }
   ],
   "source": [
    "# setups = [(i, j) for i in [1, 2] for j in [1, 2, 3]]\n",
    "\n",
    "# rec_errors = {}\n",
    "for N_weeks in [1, 2]:\n",
    "    specs = f'{N_weeks}_0'\n",
    "    # src_list: list = ['ANTWERP', 'BANGKOK', 'BARCELONA', 'BERLIN', 'CHICAGO', 'ISTANBUL', 'MOSCOW'][:N_src]\n",
    "\n",
    "    TRAIN_VAL_TEST_SPLIT_TGT = [\n",
    "            N_weeks*0.04,\n",
    "            0.04,\n",
    "            1 - (N_weeks+1)*0.04\n",
    "        ]\n",
    "    # Create datasets for each city\n",
    "    ds_dict = {}\n",
    "    for city in src_list:\n",
    "        ds_dict[city] = GraphDataset(\n",
    "            cities=[city],\n",
    "            limit=src_data_limit,\n",
    "            **ds_kwargs,\n",
    "        )\n",
    "        \n",
    "    temp_tgt = GraphDataset(\n",
    "        cities=[tgt],\n",
    "        limit=None,\n",
    "        **ds_kwargs,\n",
    "    )\n",
    "    \n",
    "    train_tgt, val_tgt, test_tgt = random_split(\n",
    "        temp_tgt, TRAIN_VAL_TEST_SPLIT_TGT,\n",
    "        generator=gen\n",
    "    )\n",
    "    \n",
    "    \n",
    "    train_tgt = DataLoader(\n",
    "        train_tgt, batch_size=BATCH_SIZE, shuffle=True,\n",
    "        drop_last=True, generator=gen\n",
    "    )\n",
    "    val_tgt   = DataLoader(\n",
    "        val_tgt, batch_size=BATCH_SIZE, shuffle=True,\n",
    "        drop_last=True, generator=gen\n",
    "    )\n",
    "    test_tgt  = DataLoader( \n",
    "        test_tgt, batch_size=BATCH_SIZE, shuffle=False,\n",
    "        drop_last=True, generator=gen\n",
    "    )\n",
    "    # Split each dataset into training and test sets\n",
    "    train = {}\n",
    "    val   = {}\n",
    "    test  = {}\n",
    "    for city in ds_dict:\n",
    "        train_ds, val_ds, test_ds = random_split(\n",
    "            ds_dict[city], TRAIN_VAL_TEST_SPLIT\n",
    "        )\n",
    "        train[city] = DataLoader(\n",
    "            train_ds, batch_size=BATCH_SIZE, shuffle=True,\n",
    "            drop_last=True, generator=gen\n",
    "        )\n",
    "        val[city]   = DataLoader(\n",
    "            val_ds, batch_size=BATCH_SIZE, shuffle=True,\n",
    "            drop_last=True, generator=gen\n",
    "        )\n",
    "        test[city]  = DataLoader(\n",
    "            test_ds, batch_size=BATCH_SIZE, shuffle=False,\n",
    "            drop_last=True, generator=gen\n",
    "        )\n",
    "    \n",
    "    train[tgt] = train_tgt\n",
    "    val[tgt]   = val_tgt\n",
    "    test[tgt]  = test_tgt\n",
    "    \n",
    "    # Create dataloader for offline training with source cities\n",
    "    source_train = {city: train[city] for city in src_list}\n",
    "    source_dataloader = CombinedLoader(source_train, mode='max_size_cycle')\n",
    "    \n",
    "    source_test = {city: test[city] for city in src_list}\n",
    "    sourcetest_dataloader = CombinedLoader(source_test, mode='max_size_cycle')\n",
    "    \n",
    "    target_dataloader = CombinedLoader({tgt: train[tgt]}, mode='max_size_cycle')\n",
    "    targettest_dataloader = CombinedLoader({tgt: test[tgt]}, mode='max_size_cycle')\n",
    "    \n",
    "    # Create dataloader for online training with source and target cities\n",
    "    train_dataloader = CombinedLoader(train, mode='max_size_cycle')\n",
    "    \n",
    "    # Create dataloader for validation with source and target cities\n",
    "    val_dataloader = CombinedLoader(val, mode='max_size_cycle')\n",
    "    \n",
    "    # Create dataloader for testing with source and target cities\n",
    "    test_dataloader = CombinedLoader(test, mode='max_size_cycle')\n",
    "\n",
    "    ##############################################################################\n",
    "    ########################## INSTANTIATING THE MODEL ###########################\n",
    "    ##############################################################################\n",
    "    USE_LAYER_NORM=True\n",
    "    \n",
    "    AE_K_CHEB = 3\n",
    "    AE_CONV_DIM = 16\n",
    "    AE_LINEAR_DIM = 8\n",
    "    AE_DROPOUT = 0.5\n",
    "    AE_ACTIVATION = 'sigmoid'\n",
    "    \n",
    "    AE_parameters = {\n",
    "        'K_cheb': AE_K_CHEB,\n",
    "        'conv_dim': AE_CONV_DIM,\n",
    "        'linear_dim': AE_LINEAR_DIM,\n",
    "        'dropout': AE_DROPOUT,\n",
    "        'activation': AE_ACTIVATION,\n",
    "        'num_channels': NUM_CHANNELS,\n",
    "        'device': device,\n",
    "        'use_layer_norm': USE_LAYER_NORM\n",
    "    }\n",
    "    \n",
    "    DD_SEQ_LEN = 12\n",
    "    DD_FEAT_DIM = AE_LINEAR_DIM\n",
    "    DD_LEFT_NODES = 1750\n",
    "    DD_parameters = {\n",
    "        'seq_len': DD_SEQ_LEN,\n",
    "        'feat_dim': DD_FEAT_DIM,\n",
    "        'left_nodes': DD_LEFT_NODES,\n",
    "        'use_layer_norm': USE_LAYER_NORM\n",
    "    }\n",
    "    \n",
    "    # autoencoder linear dims + 4 sin-cos time features\n",
    "    PRED_FEATURES   = AE_LINEAR_DIM + 4\n",
    "    PRED_LINEAR_DIM = 32\n",
    "    PRED_PERIODS_IN = 12\n",
    "    PRED_PERIODS_OUT = [0, 1, 2, 5, 8, 11]\n",
    "    PRED_ACTIVATION  = 'relu'\n",
    "    \n",
    "    PR_parameters = {\n",
    "        'features': PRED_FEATURES,\n",
    "        'linear_dim': PRED_LINEAR_DIM,\n",
    "        'periods_in': PRED_PERIODS_IN,\n",
    "        'periods_out': PRED_PERIODS_OUT,\n",
    "        'activation': PRED_ACTIVATION,\n",
    "        'num_channels': NUM_CHANNELS,\n",
    "        'device': device,\n",
    "        'batch_size': BATCH_SIZE,\n",
    "        'use_layer_norm': USE_LAYER_NORM\n",
    "        \n",
    "    }\n",
    "    num_epochs = EPOCHS\n",
    "    dataloaders = train_dataloader, target_dataloader, targettest_dataloader\n",
    "    AE_criterion = nn.MSELoss()\n",
    "    PR_criterion = nn.MSELoss()\n",
    "    optimizer_parameters = 5e-4, 5e-5\n",
    "    BATCH_SIZE = BATCH_SIZE\n",
    "    dd_lambda = 0.01\n",
    "    \n",
    "    folder = osp.join('training logs', 'models', exp_id)\n",
    "    check_dir(folder)\n",
    "    \n",
    "    \n",
    "    model = Model(\n",
    "        AE_parameters=AE_parameters,\n",
    "        DD_parameters=DD_parameters,\n",
    "        PR_parameters=PR_parameters,\n",
    "        num_epochs=num_epochs,\n",
    "        dataloaders=dataloaders,\n",
    "        AE_criterion=AE_criterion,\n",
    "        PR_criterion=PR_criterion,\n",
    "        optimizer_parameters=optimizer_parameters,\n",
    "        BATCH_SIZE=BATCH_SIZE,\n",
    "        dd_lambda=dd_lambda,\n",
    "        folder=folder,\n",
    "        specs=specs,\n",
    "        tgt=tgt,\n",
    "        val_dl=val_dataloader,\n",
    "        lr_scheduler=(8500, 0.85)\n",
    "    ).to(device)\n",
    "    step = 64//BATCH_SIZE\n",
    "    # print(f\"==================== AE PT ====================\")\n",
    "    # model.ae_train(\n",
    "    #     'pretrain', \n",
    "    #     save=False, \n",
    "    #     lambda_update=1.5, \n",
    "    #     plot=1, \n",
    "    #     accumulation_steps=step\n",
    "    # )\n",
    "    \n",
    "    print(f\"==================== AE FT ====================\")\n",
    "    model.ae_train(\n",
    "        'finetune', \n",
    "        save=True, \n",
    "        plot=1,\n",
    "        accumulation_steps=step//4\n",
    "    )\n",
    "    \n",
    "    # print(f\"==================== PR PT ====================\")\n",
    "    # model.pred_train(\n",
    "    #     'pretrain', \n",
    "    #     save=False, \n",
    "    #     plot=1, \n",
    "    #     accumulation_steps=step\n",
    "    # )\n",
    "    \n",
    "    print(f\"==================== PR FT ====================\")\n",
    "    model.pred_train(\n",
    "        'finetune', \n",
    "        save=True, \n",
    "        plot=1,\n",
    "        accumulation_steps=step//4\n",
    "    )\n",
    "    \n",
    "    # model.load_module('autoencoder', folder, f'ae_{specs}.pth')\n",
    "    # model.load_module('discriminator', folder, f'dd_{specs}.pth')\n",
    "    # model.load_module('predictor', folder, f'pred_{specs}.pth')\n",
    "    # \n",
    "\n",
    "    errors = model.ae_test(crit=['MAE', 'RMSE'], sample_limit=2000)\n",
    "    rec_errors[specs] = errors\n",
    "\n",
    "    errors = model.pred_test(sample_limit=4000, crit=['MAE', 'RMSE'])\n",
    "    test_errors[specs] = errors"
   ]
  },
  {
   "cell_type": "code",
   "execution_count": 1,
   "id": "9bf45360-177a-4c14-9d9a-d60071b74267",
   "metadata": {},
   "outputs": [],
   "source": [
    "hidden_dim = [8, 16, 32, 64, 16]"
   ]
  },
  {
   "cell_type": "code",
   "execution_count": 8,
   "id": "c338c465-68ba-4c15-864a-bbc965842d51",
   "metadata": {},
   "outputs": [],
   "source": [
    "import torch.nn as nn"
   ]
  },
  {
   "cell_type": "code",
   "execution_count": 9,
   "id": "389a55e5-040c-48d8-a171-2570d64beaa9",
   "metadata": {},
   "outputs": [],
   "source": [
    "seq = nn.Sequential()"
   ]
  },
  {
   "cell_type": "code",
   "execution_count": 16,
   "id": "b4c7e9bd-3481-4c06-a82f-41701782a154",
   "metadata": {},
   "outputs": [
    {
     "data": {
      "text/plain": [
       "Linear(in_features=1, out_features=1, bias=True)"
      ]
     },
     "execution_count": 16,
     "metadata": {},
     "output_type": "execute_result"
    }
   ],
   "source": [
    "seq[0]"
   ]
  },
  {
   "cell_type": "code",
   "execution_count": 3,
   "id": "c0b0ce81-b640-4266-be7e-c75117947a5c",
   "metadata": {},
   "outputs": [
    {
     "data": {
      "text/plain": [
       "[2, 16, 64]"
      ]
     },
     "execution_count": 3,
     "metadata": {},
     "output_type": "execute_result"
    }
   ],
   "source": [
    "[2] + [el for el in hidden_dim[1::2]]"
   ]
  },
  {
   "cell_type": "code",
   "execution_count": 151,
   "id": "b7eb988d-15cc-4a9e-9c12-0b0853a82425",
   "metadata": {},
   "outputs": [],
   "source": [
    "test_errors = {k: v for k, v in sorted(test_errors.items())}"
   ]
  },
  {
   "cell_type": "code",
   "execution_count": 153,
   "id": "5e2f73bc-ab64-472f-94df-a1d8a9f47356",
   "metadata": {},
   "outputs": [
    {
     "name": "stdout",
     "output_type": "stream",
     "text": [
      "N_weeks N_src 1_0\n",
      "MAE MEDIAN tensor(0.1626, device='cuda:0')\n",
      "RMSE MEDIAN tensor(0.1695, device='cuda:0')\n",
      "-------------------------------\n",
      "N_weeks N_src 1_1\n",
      "MAE MEDIAN tensor(0.0018, device='cuda:0')\n",
      "RMSE MEDIAN tensor(0.0171, device='cuda:0')\n",
      "-------------------------------\n",
      "N_weeks N_src 1_2\n",
      "MAE MEDIAN tensor(0.0017, device='cuda:0')\n",
      "RMSE MEDIAN tensor(0.0171, device='cuda:0')\n",
      "-------------------------------\n",
      "N_weeks N_src 1_3\n",
      "MAE MEDIAN tensor(0.0019, device='cuda:0')\n",
      "RMSE MEDIAN tensor(0.0173, device='cuda:0')\n",
      "-------------------------------\n",
      "N_weeks N_src 2_0\n",
      "MAE MEDIAN tensor(0.0356, device='cuda:0')\n",
      "RMSE MEDIAN tensor(0.0404, device='cuda:0')\n",
      "-------------------------------\n",
      "N_weeks N_src 2_1\n",
      "MAE MEDIAN tensor(0.0017, device='cuda:0')\n",
      "RMSE MEDIAN tensor(0.0171, device='cuda:0')\n",
      "-------------------------------\n",
      "N_weeks N_src 2_2\n",
      "MAE MEDIAN tensor(0.0020, device='cuda:0')\n",
      "RMSE MEDIAN tensor(0.0166, device='cuda:0')\n",
      "-------------------------------\n",
      "N_weeks N_src 2_3\n",
      "MAE MEDIAN tensor(0.0036, device='cuda:0')\n",
      "RMSE MEDIAN tensor(0.0172, device='cuda:0')\n",
      "-------------------------------\n"
     ]
    }
   ],
   "source": [
    "for k, v in test_errors.items():\n",
    "    print('N_weeks N_src', k)\n",
    "    print('MAE MEDIAN', v['MAE'].median())\n",
    "    print('RMSE MEDIAN', v['RMSE'].median())\n",
    "    print('-------------------------------')"
   ]
  },
  {
   "cell_type": "code",
   "execution_count": 156,
   "id": "dd332c80-b3ea-4bcb-8b5e-31a81b601a85",
   "metadata": {},
   "outputs": [],
   "source": [
    "def plot_median_error(\n",
    "    dict_values, \n",
    "    metric='RMSE', \n",
    "    values=[1, 2, 3],\n",
    "    xlabel='# sources',\n",
    "    save=True,\n",
    "    exp_id='exp',\n",
    "    specs=''\n",
    "):\n",
    "    new_dict = {}\n",
    "    for k, v in dict_values.items():\n",
    "        key = k.split('_')[0]\n",
    "        if key not in new_dict:\n",
    "            new_dict[key] = []\n",
    "        value = v[metric]\n",
    "        if hasattr(value, 'device'):\n",
    "            value = value.cpu().numpy()\n",
    "        if int(k.split('_')[1]) in values:\n",
    "            new_dict[key].append(value)\n",
    "    \n",
    "    cmap = mpl.colormaps.get_cmap('Pastel1')\n",
    "    colors = [cmap(i/(4*len(new_dict))) for i in range(4*len(new_dict))]\n",
    "    fig, ax = plt.subplots(figsize=(8, 5))    \n",
    "\n",
    "    _max = 0\n",
    "    _min = 99\n",
    "    for i, (k, v) in enumerate(new_dict.items()):\n",
    "        y = [np.median(el) for el in v]\n",
    "        yerr = [np.std(el) for el in v]\n",
    "        plt.errorbar(values, y, yerr=yerr, fmt='o', linestyle='--', c=colors[i], label=k, capsize=3)\n",
    "\n",
    "        _max = max(_max, max([el.max() for el in v]))\n",
    "        _min = min(_min, min([el.min() for el in v]))\n",
    "\n",
    "\n",
    "    # change the style of the axis spines\n",
    "    ax.spines['top'].set_visible(False)\n",
    "    ax.spines['right'].set_visible(False)\n",
    "    ax.spines['right'].set_position(('outward', 4))\n",
    "\n",
    "    ax.spines['left'].set_position(('outward', 4))\n",
    "    ax.spines['bottom'].set_position(('outward', 4))\n",
    "    ax.spines['bottom'].set_bounds(values[0], values[-1])\n",
    "\n",
    "    ax.set_xlabel(xlabel, fontsize=15, color = '#333F4B')\n",
    "    ax.set_ylabel(metric, fontsize=15, color = '#333F4B')\n",
    "    \n",
    "    ax.set_ylim(bottom=1.05*_min, top=_max)\n",
    "    ax.set_xlim(left=.95*values[0], right=1.05*values[-1])\n",
    "\n",
    "    ax.set_xticks(values)\n",
    "\n",
    "    plt.legend(title='# weeks', labelcolor = '#333F4B')\n",
    "\n",
    "    plt.tight_layout()\n",
    "    if save:\n",
    "        check_dir(osp.join('figures', exp_id))\n",
    "        plt.savefig(osp.join('figures', exp_id, f'median_{metric}_{specs}.pdf'), dpi=200, format='pdf')\n",
    "        plt.clf()\n",
    "    else:\n",
    "        plt.show()"
   ]
  },
  {
   "cell_type": "code",
   "execution_count": 159,
   "id": "5f460bd5-5260-4176-9c51-4f6a0d1c8291",
   "metadata": {},
   "outputs": [
    {
     "data": {
      "text/plain": [
       "<Figure size 800x500 with 0 Axes>"
      ]
     },
     "metadata": {},
     "output_type": "display_data"
    }
   ],
   "source": [
    "plot_median_error(rec_errors, save=True, values=[1, 2, 3], specs='rec_errors')"
   ]
  },
  {
   "cell_type": "code",
   "execution_count": 160,
   "id": "f7aa9d17-a5db-4538-b119-c039816f4b55",
   "metadata": {},
   "outputs": [
    {
     "data": {
      "text/plain": [
       "<Figure size 800x500 with 0 Axes>"
      ]
     },
     "metadata": {},
     "output_type": "display_data"
    }
   ],
   "source": [
    "plot_median_error(test_errors, save=True, values=[1, 2, 3], specs='pred_errors')"
   ]
  },
  {
   "cell_type": "code",
   "execution_count": 162,
   "id": "a70ef811-4fed-41e8-9e87-496f27d6a5bb",
   "metadata": {},
   "outputs": [],
   "source": [
    "fn = osp.join(folder, 'rec_dict.pkl')\n",
    "with open(fn, 'wb') as f:\n",
    "    pickle.dump(rec_errors, f)"
   ]
  },
  {
   "cell_type": "code",
   "execution_count": 8,
   "id": "5eca4083-1f0b-4d20-a86d-8c9d13a17c65",
   "metadata": {
    "scrolled": true,
    "tags": []
   },
   "outputs": [
    {
     "data": {
      "application/vnd.jupyter.widget-view+json": {
       "model_id": "4dac3ee39bf94db89609d2de892062f4",
       "version_major": 2,
       "version_minor": 0
      },
      "text/plain": [
       "Batches:   0%|          | 0/4000 [00:00<?,?it/s]"
      ]
     },
     "metadata": {},
     "output_type": "display_data"
    },
    {
     "data": {
      "text/plain": [
       "<tqdm.notebook.tqdm_notebook at 0x7f670c2aa110>"
      ]
     },
     "metadata": {},
     "output_type": "display_data"
    }
   ],
   "source": [
    "##############################################################################\n",
    "########################## INSTANTIATING THE MODEL ###########################\n",
    "##############################################################################\n",
    "USE_LAYER_NORM=True\n",
    "\n",
    "AE_K_CHEB = 3\n",
    "AE_CONV_DIM = 16\n",
    "AE_LINEAR_DIM = 8\n",
    "AE_DROPOUT = 0.5\n",
    "AE_ACTIVATION = 'sigmoid'\n",
    "\n",
    "AE_parameters = {\n",
    "    'K_cheb': AE_K_CHEB,\n",
    "    'conv_dim': AE_CONV_DIM,\n",
    "    'linear_dim': AE_LINEAR_DIM,\n",
    "    'dropout': AE_DROPOUT,\n",
    "    'activation': AE_ACTIVATION,\n",
    "    'num_channels': NUM_CHANNELS,\n",
    "    'device': device,\n",
    "    'use_layer_norm': USE_LAYER_NORM\n",
    "}\n",
    "\n",
    "DD_SEQ_LEN = 12\n",
    "DD_FEAT_DIM = AE_LINEAR_DIM\n",
    "DD_LEFT_NODES = 1750\n",
    "DD_parameters = {\n",
    "    'seq_len': DD_SEQ_LEN,\n",
    "    'feat_dim': DD_FEAT_DIM,\n",
    "    'left_nodes': DD_LEFT_NODES,\n",
    "    'use_layer_norm': USE_LAYER_NORM\n",
    "}\n",
    "\n",
    "# autoencoder linear dims + 4 sin-cos time features\n",
    "PRED_FEATURES   = AE_LINEAR_DIM + 4\n",
    "PRED_LINEAR_DIM = 32\n",
    "PRED_PERIODS_IN = 12\n",
    "PRED_PERIODS_OUT = [0, 1, 2, 5, 8, 11]\n",
    "PRED_ACTIVATION  = 'relu'\n",
    "\n",
    "PR_parameters = {\n",
    "    'features': PRED_FEATURES,\n",
    "    'linear_dim': PRED_LINEAR_DIM,\n",
    "    'periods_in': PRED_PERIODS_IN,\n",
    "    'periods_out': PRED_PERIODS_OUT,\n",
    "    'activation': PRED_ACTIVATION,\n",
    "    'num_channels': NUM_CHANNELS,\n",
    "    'device': device,\n",
    "    'batch_size': BATCH_SIZE,\n",
    "    'use_layer_norm': USE_LAYER_NORM\n",
    "    \n",
    "}\n",
    "num_epochs = EPOCHS\n",
    "dataloaders = train_dataloader, target_dataloader, targettest_dataloader\n",
    "AE_criterion = nn.MSELoss()\n",
    "PR_criterion = nn.MSELoss()\n",
    "optimizer_parameters = 5e-4, 5e-5\n",
    "BATCH_SIZE = BATCH_SIZE\n",
    "dd_lambda = 0.01\n",
    "\n",
    "folder = osp.join('training logs', 'models', exp_id)\n",
    "check_dir(folder)\n",
    "\n",
    "\n",
    "model = Model(\n",
    "    AE_parameters=AE_parameters,\n",
    "    DD_parameters=DD_parameters,\n",
    "    PR_parameters=PR_parameters,\n",
    "    num_epochs=num_epochs,\n",
    "    dataloaders=dataloaders,\n",
    "    AE_criterion=AE_criterion,\n",
    "    PR_criterion=PR_criterion,\n",
    "    optimizer_parameters=optimizer_parameters,\n",
    "    BATCH_SIZE=BATCH_SIZE,\n",
    "    dd_lambda=dd_lambda,\n",
    "    folder=folder,\n",
    "    specs=specs,\n",
    "    tgt=tgt,\n",
    "    val_dl=val_dataloader,\n",
    "    lr_scheduler=(8500, 0.85)\n",
    ").to(device)\n",
    "\n",
    "\n",
    "model.load_module('autoencoder', folder, f'ae_{specs}.pth')\n",
    "model.load_module('discriminator', folder, f'dd_{specs}.pth')\n",
    "model.load_module('predictor', folder, f'pred_{specs}.pth')\n",
    "step = 64//BATCH_SIZE\n",
    "\n",
    "# print(f\"==================== AE PT ====================\")\n",
    "# model.ae_train(\n",
    "#     'pretrain', \n",
    "#     save=False, \n",
    "#     lambda_update=1.5, \n",
    "#     plot=1, \n",
    "#     accumulation_steps=step\n",
    "# )\n",
    "\n",
    "# print(f\"==================== AE FT ====================\")\n",
    "# model.ae_train(\n",
    "#     'finetune', \n",
    "#     save=True, \n",
    "#     plot=1,\n",
    "#     accumulation_steps=step//4\n",
    "# )\n",
    "\n",
    "# print(f\"==================== PR PT ====================\")\n",
    "# model.pred_train(\n",
    "#     'pretrain', \n",
    "#     save=False, \n",
    "#     plot=1, \n",
    "#     accumulation_steps=step\n",
    "# )\n",
    "\n",
    "# print(f\"==================== PR FT ====================\")\n",
    "# model.pred_train(\n",
    "#     'finetune', \n",
    "#     save=True, \n",
    "#     plot=1,\n",
    "#     accumulation_steps=step//4\n",
    "# )\n",
    "\n",
    "errors = model.pred_test(sample_limit=4000, crit=['MAE', 'RMSE'])\n"
   ]
  },
  {
   "cell_type": "code",
   "execution_count": null,
   "id": "188ee26e-cb2c-41c4-b917-cdd9fb451c14",
   "metadata": {},
   "outputs": [],
   "source": [
    "fn = osp.join(folder, 'errors_dict.pkl')\n",
    "with open(fn, 'rb') as f:\n",
    "    test_errors = pickle.load(f)\n",
    "test_errors[specs] = errors\n",
    "with open(fn, 'wb') as f:\n",
    "    pickle.dump(test_errors, f)\n",
    "\n",
    "\n",
    "plot_losses_boxplot(\n",
    "    test_errors,\n",
    "    r'N_weeks, N_src', \n",
    "    save=False,\n",
    "    errors=list(errors.keys()),\n",
    "    exp_id=exp_id,\n",
    ")"
   ]
  },
  {
   "cell_type": "code",
   "execution_count": 12,
   "id": "84b218c7-ca33-4098-bfdd-db3030252396",
   "metadata": {},
   "outputs": [
    {
     "data": {
      "image/png": "[encoded data removed]",
      "text/plain": [
       "<Figure size 800x500 with 2 Axes>"
      ]
     },
     "metadata": {},
     "output_type": "display_data"
    }
   ],
   "source": [
    "plot_losses_boxplot(\n",
    "    test_errors,\n",
    "    r'N_weeks, N_src', \n",
    "    save=False,\n",
    "    errors=list(errors.keys()),\n",
    "    exp_id=exp_id,\n",
    ")"
   ]
  },
  {
   "cell_type": "code",
   "execution_count": 10,
   "id": "cbbad958-26c0-4de1-b18a-308a461f18b6",
   "metadata": {},
   "outputs": [
    {
     "data": {
      "text/plain": [
       "{'MAE': tensor([0.0010, 0.0020, 0.0002,  ..., 0.0003, 0.0008, 0.0004], device='cuda:0'),\n",
       " 'RMSE': tensor([0.0135, 0.0197, 0.0045,  ..., 0.0055, 0.0120, 0.0083], device='cuda:0')}"
      ]
     },
     "execution_count": 10,
     "metadata": {},
     "output_type": "execute_result"
    }
   ],
   "source": [
    "test_errors.pop('2_2_old', None)"
   ]
  },
  {
   "cell_type": "code",
   "execution_count": 29,
   "id": "1c1c8e8f-fe05-43b8-9435-a9895617e14a",
   "metadata": {},
   "outputs": [
    {
     "data": {
      "text/plain": [
       "{'2_1': {'MAE': tensor([0.0011, 0.0021, 0.0003,  ..., 0.0003, 0.0009, 0.0005], device='cuda:0'),\n",
       "  'RMSE': tensor([0.0135, 0.0197, 0.0045,  ..., 0.0055, 0.0120, 0.0083], device='cuda:0')},\n",
       " '2_2': {'MAE': tensor([0.0013, 0.0024, 0.0003,  ..., 0.0003, 0.0010, 0.0005], device='cuda:0'),\n",
       "  'RMSE': tensor([0.0132, 0.0190, 0.0045,  ..., 0.0055, 0.0120, 0.0083], device='cuda:0')},\n",
       " '2_3': {'MAE': tensor([0.0030, 0.0039, 0.0022,  ..., 0.0044, 0.0038, 0.0045], device='cuda:0'),\n",
       "  'RMSE': tensor([0.0136, 0.0197, 0.0051,  ..., 0.0219, 0.0186, 0.0204], device='cuda:0')},\n",
       " '1_1': {'MAE': tensor([0.0030, 0.0005, 0.0033,  ..., 0.0007, 0.0027, 0.0020], device='cuda:0'),\n",
       "  'RMSE': tensor([0.0217, 0.0065, 0.0236,  ..., 0.0088, 0.0210, 0.0183], device='cuda:0')},\n",
       " '1_2': {'MAE': tensor([0.0030, 0.0004, 0.0032,  ..., 0.0006, 0.0026, 0.0019], device='cuda:0'),\n",
       "  'RMSE': tensor([0.0217, 0.0065, 0.0236,  ..., 0.0088, 0.0210, 0.0183], device='cuda:0')},\n",
       " '1_3': {'MAE': tensor([0.0031, 0.0006, 0.0033,  ..., 0.0006, 0.0006, 0.0017], device='cuda:0'),\n",
       "  'RMSE': tensor([0.0217, 0.0065, 0.0236,  ..., 0.0072, 0.0074, 0.0160], device='cuda:0')}}"
      ]
     },
     "execution_count": 29,
     "metadata": {},
     "output_type": "execute_result"
    }
   ],
   "source": [
    "test_errors"
   ]
  },
  {
   "cell_type": "code",
   "execution_count": null,
   "id": "5650928b-9494-42fe-bb87-0473dc8f85c8",
   "metadata": {},
   "outputs": [],
   "source": []
  }
 ],
 "metadata": {
  "environment": {
   "kernel": "python3",
   "name": ".m113",
   "type": "gcloud",
   "uri": "gcr.io/deeplearning-platform-release/:m113"
  },
  "kernelspec": {
   "display_name": "Python 3 (ipykernel)",
   "language": "python",
   "name": "python3"
  },
  "language_info": {
   "codemirror_mode": {
    "name": "ipython",
    "version": 3
   },
   "file_extension": ".py",
   "mimetype": "text/x-python",
   "name": "python",
   "nbconvert_exporter": "python",
   "pygments_lexer": "ipython3",
   "version": "3.10.13"
  },
  "widgets": {
   "application/vnd.jupyter.widget-state+json": {
    "state": {},
    "version_major": 2,
    "version_minor": 0
   }
  }
 },
 "nbformat": 4,
 "nbformat_minor": 5
}
